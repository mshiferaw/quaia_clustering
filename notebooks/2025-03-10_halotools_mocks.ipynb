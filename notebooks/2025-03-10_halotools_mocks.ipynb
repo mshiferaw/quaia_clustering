{
 "cells": [
  {
   "cell_type": "code",
   "execution_count": 1,
   "id": "5096850b-5f6f-4d01-b3c8-38d48df8834a",
   "metadata": {},
   "outputs": [],
   "source": [
    "from halotools.sim_manager import CachedHaloCatalog\n",
    "from halotools.empirical_models import PrebuiltHodModelFactory\n",
    "import numpy as np\n",
    "from matplotlib import pyplot as plt\n",
    "from halotools.mock_observables import hod_from_mock\n",
    "from Corrfunc import theory\n",
    "from Corrfunc.utils import convert_rp_pi_counts_to_wp"
   ]
  },
  {
   "cell_type": "markdown",
   "id": "9efea86a-38f2-406e-827c-4609c4f2247f",
   "metadata": {},
   "source": [
    "# Build models and make mocks\n",
    "## Use prebuilt model provided by halotools"
   ]
  },
  {
   "cell_type": "code",
   "execution_count": 39,
   "id": "e8c9b767-97bd-4c49-b4fa-2a101ea24926",
   "metadata": {},
   "outputs": [],
   "source": [
    "zheng07_model = PrebuiltHodModelFactory('zheng07', threshold = -19.5, redshift = 0)"
   ]
  },
  {
   "cell_type": "code",
   "execution_count": 40,
   "id": "d0d4ef1d-76bc-44a3-833a-fc46375204fb",
   "metadata": {},
   "outputs": [
    {
     "data": {
      "text/plain": [
       "{'logMmin': 11.75,\n",
       " 'sigma_logM': 0.28,\n",
       " 'logM0': 11.69,\n",
       " 'logM1': 13.01,\n",
       " 'alpha': 1.06}"
      ]
     },
     "execution_count": 40,
     "metadata": {},
     "output_type": "execute_result"
    }
   ],
   "source": [
    "# zheng07_model.param_dict['logMmin'] = 12.5\n",
    "zheng07_model.param_dict"
   ]
  },
  {
   "cell_type": "code",
   "execution_count": 42,
   "id": "07cd9de9-a7b6-49e0-af09-2e132251e483",
   "metadata": {},
   "outputs": [],
   "source": [
    "halocat = CachedHaloCatalog(simname = 'multidark', redshift = 0)"
   ]
  },
  {
   "cell_type": "code",
   "execution_count": 43,
   "id": "c5667c36-4dcd-424e-a089-555427ccd584",
   "metadata": {},
   "outputs": [],
   "source": [
    "halos = halocat.halo_table"
   ]
  },
  {
   "cell_type": "code",
   "execution_count": 44,
   "id": "7826db85-47a6-429b-a5d9-0bfbe0b4e625",
   "metadata": {},
   "outputs": [
    {
     "name": "stdout",
     "output_type": "stream",
     "text": [
      "halo_vmax_firstacc halo_dmvir_dt_tdyn ... halo_hostid halo_mvir_host_halo\n",
      "------------------ ------------------ ... ----------- -------------------\n",
      "           1998.52           470100.0 ...   792022318  1625000000000000.0\n",
      "           1675.81           235100.0 ...   792040180  1022000000000000.0\n",
      "           1611.28           113900.0 ...   789412757   989500000000000.0\n",
      "           1580.28            80460.0 ...   789736791   871800000000000.0\n",
      "            1393.3            87060.0 ...   792004706   808600000000000.0\n",
      "           1344.75             8434.0 ...   789466655   737700000000000.0\n",
      "           1375.72            15190.0 ...   794038509   662200000000000.0\n",
      "           1377.82            20280.0 ...   789718735   655400000000000.0\n",
      "           1363.14            78990.0 ...   792004922   654500000000000.0\n"
     ]
    }
   ],
   "source": [
    "print(halos[0:9])"
   ]
  },
  {
   "cell_type": "code",
   "execution_count": 45,
   "id": "e7288229-be07-4213-a301-7c4efdaa9360",
   "metadata": {},
   "outputs": [
    {
     "name": "stdout",
     "output_type": "stream",
     "text": [
      "['halo_vmax_firstacc', 'halo_dmvir_dt_tdyn', 'halo_macc', 'halo_scale_factor', 'halo_vmax_mpeak', 'halo_m_pe_behroozi', 'halo_xoff', 'halo_spin', 'halo_scale_factor_firstacc', 'halo_c_to_a', 'halo_mvir_firstacc', 'halo_scale_factor_last_mm', 'halo_scale_factor_mpeak', 'halo_pid', 'halo_m500c', 'halo_id', 'halo_halfmass_scale_factor', 'halo_upid', 'halo_t_by_u', 'halo_rvir', 'halo_vpeak', 'halo_dmvir_dt_100myr', 'halo_mpeak', 'halo_m_pe_diemer', 'halo_jx', 'halo_jy', 'halo_jz', 'halo_m2500c', 'halo_mvir', 'halo_voff', 'halo_axisA_z', 'halo_axisA_x', 'halo_axisA_y', 'halo_y', 'halo_b_to_a', 'halo_x', 'halo_z', 'halo_m200b', 'halo_vacc', 'halo_scale_factor_lastacc', 'halo_vmax', 'halo_m200c', 'halo_vx', 'halo_vy', 'halo_vz', 'halo_dmvir_dt_inst', 'halo_rs', 'halo_nfw_conc', 'halo_hostid', 'halo_mvir_host_halo']\n"
     ]
    }
   ],
   "source": [
    "print(halos.keys())"
   ]
  },
  {
   "cell_type": "code",
   "execution_count": 46,
   "id": "8f650b05-1fe3-42af-8acb-20c8eae74632",
   "metadata": {},
   "outputs": [
    {
     "data": {
      "text/html": [
       "<div><i>Table length=1709942</i>\n",
       "<table id=\"table139690924974288\" class=\"table-striped table-bordered table-condensed\">\n",
       "<thead><tr><th>halo_pid</th><th>halo_upid</th><th>halo_hostid</th><th>halo_z</th><th>halo_vz</th></tr></thead>\n",
       "<thead><tr><th>int64</th><th>int64</th><th>int64</th><th>float32</th><th>float32</th></tr></thead>\n",
       "<tr><td>-1</td><td>-1</td><td>792022318</td><td>78.23782</td><td>-254.34</td></tr>\n",
       "<tr><td>-1</td><td>-1</td><td>792040180</td><td>172.08052</td><td>-464.07</td></tr>\n",
       "<tr><td>-1</td><td>-1</td><td>789412757</td><td>34.72453</td><td>-15.69</td></tr>\n",
       "<tr><td>-1</td><td>-1</td><td>789736791</td><td>158.68431</td><td>-49.06</td></tr>\n",
       "<tr><td>-1</td><td>-1</td><td>792004706</td><td>13.50465</td><td>12.37</td></tr>\n",
       "<tr><td>-1</td><td>-1</td><td>789466655</td><td>183.52852</td><td>-573.56</td></tr>\n",
       "<tr><td>-1</td><td>-1</td><td>794038509</td><td>79.9436</td><td>156.75</td></tr>\n",
       "<tr><td>-1</td><td>-1</td><td>789718735</td><td>84.49655</td><td>173.27</td></tr>\n",
       "<tr><td>-1</td><td>-1</td><td>792004922</td><td>25.07403</td><td>-415.02</td></tr>\n",
       "<tr><td>-1</td><td>-1</td><td>789736886</td><td>159.57742</td><td>41.0</td></tr>\n",
       "<tr><td>...</td><td>...</td><td>...</td><td>...</td><td>...</td></tr>\n",
       "<tr><td>807279458</td><td>807279458</td><td>807279458</td><td>999.8965</td><td>384.27</td></tr>\n",
       "<tr><td>807512664</td><td>807512664</td><td>807512664</td><td>832.22656</td><td>268.7</td></tr>\n",
       "<tr><td>807529941</td><td>807529939</td><td>807529939</td><td>925.672</td><td>272.01</td></tr>\n",
       "<tr><td>805192502</td><td>805192502</td><td>805192502</td><td>802.3903</td><td>-540.63</td></tr>\n",
       "<tr><td>805535826</td><td>805535826</td><td>805535826</td><td>947.51495</td><td>-632.41</td></tr>\n",
       "<tr><td>-1</td><td>-1</td><td>807783054</td><td>793.92444</td><td>277.41</td></tr>\n",
       "<tr><td>807510736</td><td>807510736</td><td>807510736</td><td>816.2212</td><td>349.83</td></tr>\n",
       "<tr><td>807837864</td><td>807837864</td><td>807837864</td><td>948.6695</td><td>-409.9</td></tr>\n",
       "<tr><td>805229353</td><td>805229353</td><td>805229353</td><td>873.38324</td><td>97.32</td></tr>\n",
       "<tr><td>805209793</td><td>805209793</td><td>805209793</td><td>816.9104</td><td>-156.4</td></tr>\n",
       "</table></div>"
      ],
      "text/plain": [
       "<Table length=1709942>\n",
       " halo_pid halo_upid halo_hostid   halo_z  halo_vz\n",
       "  int64     int64      int64     float32  float32\n",
       "--------- --------- ----------- --------- -------\n",
       "       -1        -1   792022318  78.23782 -254.34\n",
       "       -1        -1   792040180 172.08052 -464.07\n",
       "       -1        -1   789412757  34.72453  -15.69\n",
       "       -1        -1   789736791 158.68431  -49.06\n",
       "       -1        -1   792004706  13.50465   12.37\n",
       "       -1        -1   789466655 183.52852 -573.56\n",
       "       -1        -1   794038509   79.9436  156.75\n",
       "       -1        -1   789718735  84.49655  173.27\n",
       "       -1        -1   792004922  25.07403 -415.02\n",
       "       -1        -1   789736886 159.57742    41.0\n",
       "      ...       ...         ...       ...     ...\n",
       "807279458 807279458   807279458  999.8965  384.27\n",
       "807512664 807512664   807512664 832.22656   268.7\n",
       "807529941 807529939   807529939   925.672  272.01\n",
       "805192502 805192502   805192502  802.3903 -540.63\n",
       "805535826 805535826   805535826 947.51495 -632.41\n",
       "       -1        -1   807783054 793.92444  277.41\n",
       "807510736 807510736   807510736  816.2212  349.83\n",
       "807837864 807837864   807837864  948.6695  -409.9\n",
       "805229353 805229353   805229353 873.38324   97.32\n",
       "805209793 805209793   805209793  816.9104  -156.4"
      ]
     },
     "execution_count": 46,
     "metadata": {},
     "output_type": "execute_result"
    }
   ],
   "source": [
    "halos['halo_pid', 'halo_upid', 'halo_hostid', 'halo_z', 'halo_vz']"
   ]
  },
  {
   "cell_type": "code",
   "execution_count": 47,
   "id": "d6a0310e-9451-4681-87c1-5d380ccfc3a0",
   "metadata": {},
   "outputs": [
    {
     "data": {
      "text/html": [
       "&lt;Column name=&apos;halo_hostid&apos; dtype=&apos;int64&apos; length=0&gt;\n",
       "<table>\n",
       "</table>"
      ],
      "text/plain": [
       "<Column name='halo_hostid' dtype='int64' length=0>"
      ]
     },
     "execution_count": 47,
     "metadata": {},
     "output_type": "execute_result"
    }
   ],
   "source": [
    "halos['halo_hostid'][halos['halo_pid']==1805590461\t] # halo pid doesn't point to a specific upid or host id"
   ]
  },
  {
   "cell_type": "code",
   "execution_count": 48,
   "id": "b40bdc08-064f-4759-848a-1f7ce5b956ed",
   "metadata": {},
   "outputs": [
    {
     "name": "stderr",
     "output_type": "stream",
     "text": [
      "WARNING: AstropyDeprecationWarning: `astropy.cosmology.core.FLRW` has been moved (since v5.0) and should be imported as ``from astropy.cosmology import FLRW``. In future this will raise an exception. [astropy.cosmology.core]\n"
     ]
    }
   ],
   "source": [
    "zheng07_model.populate_mock(halocat)"
   ]
  },
  {
   "cell_type": "code",
   "execution_count": 49,
   "id": "609586b7-233b-4705-b475-b335eff26458",
   "metadata": {},
   "outputs": [],
   "source": [
    "galaxies = zheng07_model.mock.galaxy_table"
   ]
  },
  {
   "cell_type": "code",
   "execution_count": 50,
   "id": "b14f48ee-be7f-4256-ad79-ef04bb358667",
   "metadata": {},
   "outputs": [
    {
     "data": {
      "text/plain": [
       "(3174266, 1709942)"
      ]
     },
     "execution_count": 50,
     "metadata": {},
     "output_type": "execute_result"
    }
   ],
   "source": [
    "len(galaxies), len(halos)"
   ]
  },
  {
   "cell_type": "code",
   "execution_count": 51,
   "id": "30438353-3a25-4c41-8dc8-3b9a2f683417",
   "metadata": {},
   "outputs": [
    {
     "name": "stdout",
     "output_type": "stream",
     "text": [
      "halo_rvir halo_hostid halo_vz ... host_centric_distance     y        vy  \n",
      "--------- ----------- ------- ... --------------------- --------- -------\n",
      " 2.432366   792022318 -254.34 ...                   0.0 168.86957  257.25\n",
      " 2.083683   792040180 -464.07 ...                   0.0 181.86922  737.95\n",
      " 2.061544   789412757  -15.69 ...                   0.0  53.28018   72.86\n",
      "1.9763161   789736791  -49.06 ...                   0.0 239.42567  179.76\n",
      "1.9273361   792004706   12.37 ...                   0.0 141.88387   89.81\n",
      " 1.869349   789466655 -573.56 ...                   0.0  79.54917  425.71\n",
      "1.8031939   794038509  156.75 ...                   0.0  45.56125  448.62\n",
      "1.7970611   789718735  173.27 ...                   0.0  230.7207 -220.33\n",
      " 1.796247   792004922 -415.02 ...                   0.0  208.0427  193.83\n"
     ]
    }
   ],
   "source": [
    "print(galaxies[0:9])"
   ]
  },
  {
   "cell_type": "code",
   "execution_count": 52,
   "id": "fd7306c4-011e-482b-bf1d-0f990b83d8aa",
   "metadata": {},
   "outputs": [
    {
     "name": "stdout",
     "output_type": "stream",
     "text": [
      "['halo_rvir', 'halo_hostid', 'halo_vz', 'halo_id', 'halo_y', 'halo_mvir', 'conc_NFWmodel', 'halo_x', 'halo_z', 'halo_vx', 'halo_upid', 'halo_vy', 'halo_num_centrals', 'halo_num_satellites', 'gal_type', 'x', 'vx', 'vz', 'z', 'host_centric_distance', 'y', 'vy']\n"
     ]
    }
   ],
   "source": [
    "print(galaxies.keys())"
   ]
  },
  {
   "cell_type": "code",
   "execution_count": 53,
   "id": "63365121-d4f9-4ab3-9ad1-d794a77bc306",
   "metadata": {},
   "outputs": [
    {
     "data": {
      "text/html": [
       "<div><i>Table length=3174266</i>\n",
       "<table id=\"table139690924563568\" class=\"table-striped table-bordered table-condensed\">\n",
       "<thead><tr><th>halo_id</th><th>halo_hostid</th><th>halo_mvir</th><th>halo_upid</th><th>halo_num_centrals</th><th>halo_num_satellites</th><th>halo_z</th><th>halo_vz</th><th>gal_type</th><th>z</th><th>vz</th></tr></thead>\n",
       "<thead><tr><th>int64</th><th>int64</th><th>float32</th><th>int64</th><th>int32</th><th>int32</th><th>float32</th><th>float32</th><th>object</th><th>float32</th><th>float32</th></tr></thead>\n",
       "<tr><td>792022318</td><td>792022318</td><td>1625000000000000.0</td><td>-1</td><td>1</td><td>221</td><td>78.23782</td><td>-254.34</td><td>centrals</td><td>78.23782</td><td>-254.34</td></tr>\n",
       "<tr><td>792040180</td><td>792040180</td><td>1022000000000000.0</td><td>-1</td><td>1</td><td>130</td><td>172.08052</td><td>-464.07</td><td>centrals</td><td>172.08052</td><td>-464.07</td></tr>\n",
       "<tr><td>789412757</td><td>789412757</td><td>989500000000000.0</td><td>-1</td><td>1</td><td>123</td><td>34.72453</td><td>-15.69</td><td>centrals</td><td>34.72453</td><td>-15.69</td></tr>\n",
       "<tr><td>789736791</td><td>789736791</td><td>871800000000000.0</td><td>-1</td><td>1</td><td>103</td><td>158.68431</td><td>-49.06</td><td>centrals</td><td>158.68431</td><td>-49.06</td></tr>\n",
       "<tr><td>792004706</td><td>792004706</td><td>808600000000000.0</td><td>-1</td><td>1</td><td>105</td><td>13.50465</td><td>12.37</td><td>centrals</td><td>13.50465</td><td>12.37</td></tr>\n",
       "<tr><td>789466655</td><td>789466655</td><td>737700000000000.0</td><td>-1</td><td>1</td><td>84</td><td>183.52852</td><td>-573.56</td><td>centrals</td><td>183.52852</td><td>-573.56</td></tr>\n",
       "<tr><td>794038509</td><td>794038509</td><td>662200000000000.0</td><td>-1</td><td>1</td><td>81</td><td>79.9436</td><td>156.75</td><td>centrals</td><td>79.9436</td><td>156.75</td></tr>\n",
       "<tr><td>789718735</td><td>789718735</td><td>655400000000000.0</td><td>-1</td><td>1</td><td>67</td><td>84.49655</td><td>173.27</td><td>centrals</td><td>84.49655</td><td>173.27</td></tr>\n",
       "<tr><td>792004922</td><td>792004922</td><td>654500000000000.0</td><td>-1</td><td>1</td><td>79</td><td>25.07403</td><td>-415.02</td><td>centrals</td><td>25.07403</td><td>-415.02</td></tr>\n",
       "<tr><td>789736886</td><td>789736886</td><td>652000000000000.0</td><td>-1</td><td>1</td><td>83</td><td>159.57742</td><td>41.0</td><td>centrals</td><td>159.57742</td><td>41.0</td></tr>\n",
       "<tr><td>...</td><td>...</td><td>...</td><td>...</td><td>...</td><td>...</td><td>...</td><td>...</td><td>...</td><td>...</td><td>...</td></tr>\n",
       "<tr><td>807784974</td><td>807784974</td><td>2626000000000.0</td><td>-1</td><td>1</td><td>1</td><td>783.0067</td><td>291.25</td><td>satellites</td><td>783.1707</td><td>295.6291</td></tr>\n",
       "<tr><td>807806945</td><td>807806945</td><td>2626000000000.0</td><td>-1</td><td>1</td><td>1</td><td>842.4858</td><td>196.05</td><td>satellites</td><td>842.4653</td><td>103.05974</td></tr>\n",
       "<tr><td>807823216</td><td>807823216</td><td>2626000000000.0</td><td>-1</td><td>1</td><td>1</td><td>939.52673</td><td>-145.24</td><td>satellites</td><td>939.4746</td><td>-21.568935</td></tr>\n",
       "<tr><td>805232235</td><td>805232235</td><td>2617000000000.0</td><td>-1</td><td>1</td><td>1</td><td>934.7287</td><td>159.52</td><td>satellites</td><td>934.5953</td><td>251.13622</td></tr>\n",
       "<tr><td>805503967</td><td>805503967</td><td>2617000000000.0</td><td>-1</td><td>1</td><td>1</td><td>840.71014</td><td>-369.44</td><td>satellites</td><td>840.74054</td><td>-398.96194</td></tr>\n",
       "<tr><td>805504292</td><td>805504292</td><td>2617000000000.0</td><td>-1</td><td>1</td><td>1</td><td>807.58124</td><td>-70.23</td><td>satellites</td><td>807.7706</td><td>-192.88951</td></tr>\n",
       "<tr><td>805521593</td><td>805521593</td><td>2617000000000.0</td><td>-1</td><td>1</td><td>1</td><td>904.4352</td><td>-211.09</td><td>satellites</td><td>904.46655</td><td>-126.61347</td></tr>\n",
       "<tr><td>807534499</td><td>807534499</td><td>2617000000000.0</td><td>-1</td><td>1</td><td>2</td><td>882.7417</td><td>-583.67</td><td>satellites</td><td>882.7431</td><td>-545.5839</td></tr>\n",
       "<tr><td>807534499</td><td>807534499</td><td>2617000000000.0</td><td>-1</td><td>1</td><td>2</td><td>882.7417</td><td>-583.67</td><td>satellites</td><td>882.7391</td><td>-509.4529</td></tr>\n",
       "<tr><td>807800391</td><td>807800391</td><td>2617000000000.0</td><td>-1</td><td>1</td><td>1</td><td>866.7716</td><td>739.96</td><td>satellites</td><td>866.74994</td><td>831.4362</td></tr>\n",
       "</table></div>"
      ],
      "text/plain": [
       "<Table length=3174266>\n",
       " halo_id  halo_hostid     halo_mvir      ...  gal_type      z         vz    \n",
       "  int64      int64         float32       ...   object    float32   float32  \n",
       "--------- ----------- ------------------ ... ---------- --------- ----------\n",
       "792022318   792022318 1625000000000000.0 ...   centrals  78.23782    -254.34\n",
       "792040180   792040180 1022000000000000.0 ...   centrals 172.08052    -464.07\n",
       "789412757   789412757  989500000000000.0 ...   centrals  34.72453     -15.69\n",
       "789736791   789736791  871800000000000.0 ...   centrals 158.68431     -49.06\n",
       "792004706   792004706  808600000000000.0 ...   centrals  13.50465      12.37\n",
       "789466655   789466655  737700000000000.0 ...   centrals 183.52852    -573.56\n",
       "794038509   794038509  662200000000000.0 ...   centrals   79.9436     156.75\n",
       "789718735   789718735  655400000000000.0 ...   centrals  84.49655     173.27\n",
       "792004922   792004922  654500000000000.0 ...   centrals  25.07403    -415.02\n",
       "789736886   789736886  652000000000000.0 ...   centrals 159.57742       41.0\n",
       "      ...         ...                ... ...        ...       ...        ...\n",
       "807784974   807784974    2626000000000.0 ... satellites  783.1707   295.6291\n",
       "807806945   807806945    2626000000000.0 ... satellites  842.4653  103.05974\n",
       "807823216   807823216    2626000000000.0 ... satellites  939.4746 -21.568935\n",
       "805232235   805232235    2617000000000.0 ... satellites  934.5953  251.13622\n",
       "805503967   805503967    2617000000000.0 ... satellites 840.74054 -398.96194\n",
       "805504292   805504292    2617000000000.0 ... satellites  807.7706 -192.88951\n",
       "805521593   805521593    2617000000000.0 ... satellites 904.46655 -126.61347\n",
       "807534499   807534499    2617000000000.0 ... satellites  882.7431  -545.5839\n",
       "807534499   807534499    2617000000000.0 ... satellites  882.7391  -509.4529\n",
       "807800391   807800391    2617000000000.0 ... satellites 866.74994   831.4362"
      ]
     },
     "execution_count": 53,
     "metadata": {},
     "output_type": "execute_result"
    }
   ],
   "source": [
    "galaxies['halo_id', 'halo_hostid', 'halo_mvir', 'halo_upid', 'halo_num_centrals', 'halo_num_satellites', 'halo_z', 'halo_vz', 'gal_type', 'z', 'vz']"
   ]
  },
  {
   "cell_type": "code",
   "execution_count": 54,
   "id": "e968c2b8-3a31-4d1e-b05e-d778c26930f6",
   "metadata": {},
   "outputs": [
    {
     "data": {
      "text/plain": [
       "(3174266, 1461180)"
      ]
     },
     "execution_count": 54,
     "metadata": {},
     "output_type": "execute_result"
    }
   ],
   "source": [
    "len(galaxies), len(halos[halos['halo_upid']==-1]) # so not every central halo gets a galaxy"
   ]
  },
  {
   "cell_type": "code",
   "execution_count": 55,
   "id": "cf6cde5a-dca1-4f66-9209-7964cf50f72b",
   "metadata": {},
   "outputs": [
    {
     "data": {
      "text/plain": [
       "False"
      ]
     },
     "execution_count": 55,
     "metadata": {},
     "output_type": "execute_result"
    }
   ],
   "source": [
    "np.max(galaxies['gal_type'][galaxies['x']!=galaxies['halo_x']]=='centrals') # only centrals have matching halo and galaxy positions and velocities"
   ]
  },
  {
   "cell_type": "code",
   "execution_count": 56,
   "id": "c0cee265-2006-4ff3-9ea5-5560874694d2",
   "metadata": {},
   "outputs": [
    {
     "data": {
      "text/html": [
       "<div><i>Table length=0</i>\n",
       "<table id=\"table139690924563424\" class=\"table-striped table-bordered table-condensed\">\n",
       "<thead><tr><th>halo_rvir</th><th>halo_hostid</th><th>halo_vz</th><th>halo_id</th><th>halo_y</th><th>halo_mvir</th><th>conc_NFWmodel</th><th>halo_x</th><th>halo_z</th><th>halo_vx</th><th>halo_upid</th><th>halo_vy</th><th>halo_num_centrals</th><th>halo_num_satellites</th><th>gal_type</th><th>x</th><th>vx</th><th>vz</th><th>z</th><th>host_centric_distance</th><th>y</th><th>vy</th></tr></thead>\n",
       "<thead><tr><th>float32</th><th>int64</th><th>float32</th><th>int64</th><th>float32</th><th>float32</th><th>float32</th><th>float32</th><th>float32</th><th>float32</th><th>int64</th><th>float32</th><th>int32</th><th>int32</th><th>object</th><th>float32</th><th>float32</th><th>float32</th><th>float32</th><th>float64</th><th>float32</th><th>float32</th></tr></thead>\n",
       "</table></div>"
      ],
      "text/plain": [
       "<Table length=0>\n",
       "halo_rvir halo_hostid halo_vz halo_id ... host_centric_distance    y       vy  \n",
       " float32     int64    float32  int64  ...        float64        float32 float32\n",
       "--------- ----------- ------- ------- ... --------------------- ------- -------"
      ]
     },
     "execution_count": 56,
     "metadata": {},
     "output_type": "execute_result"
    }
   ],
   "source": [
    "galaxies[galaxies['halo_hostid']==1818294159] # halo_num_centrals and halo_num_satellites tells you number of centrals and halos in the host"
   ]
  },
  {
   "cell_type": "markdown",
   "id": "288caaa6-f0fb-410a-83ac-6de6757b1069",
   "metadata": {},
   "source": [
    "### Sanity check by plotting HOD"
   ]
  },
  {
   "cell_type": "code",
   "execution_count": 57,
   "id": "2de02ad2-c052-4a52-a49f-4e467cdfd87e",
   "metadata": {},
   "outputs": [],
   "source": [
    "halo_mass = np.logspace(11, 15, 100)"
   ]
  },
  {
   "cell_type": "code",
   "execution_count": 58,
   "id": "fd6a0fbd-c4f8-4cfc-a12b-7d5adc8212b5",
   "metadata": {},
   "outputs": [],
   "source": [
    "mean_ncen = zheng07_model.mean_occupation_centrals(prim_haloprop = halo_mass)\n",
    "mean_nsat = zheng07_model.mean_occupation_satellites(prim_haloprop = halo_mass)"
   ]
  },
  {
   "cell_type": "code",
   "execution_count": 59,
   "id": "6b7dca99-2a2b-459e-8f3d-0167f10a90f8",
   "metadata": {},
   "outputs": [
    {
     "data": {
      "text/html": [
       "<div><i>Table length=0</i>\n",
       "<table id=\"table139690921931968\" class=\"table-striped table-bordered table-condensed\">\n",
       "<thead><tr><th>halo_rvir</th><th>halo_hostid</th><th>halo_vz</th><th>halo_id</th><th>halo_y</th><th>halo_mvir</th><th>conc_NFWmodel</th><th>halo_x</th><th>halo_z</th><th>halo_vx</th><th>halo_upid</th><th>halo_vy</th><th>halo_num_centrals</th><th>halo_num_satellites</th><th>gal_type</th><th>x</th><th>vx</th><th>vz</th><th>z</th><th>host_centric_distance</th><th>y</th><th>vy</th></tr></thead>\n",
       "<thead><tr><th>float32</th><th>int64</th><th>float32</th><th>int64</th><th>float32</th><th>float32</th><th>float32</th><th>float32</th><th>float32</th><th>float32</th><th>int64</th><th>float32</th><th>int32</th><th>int32</th><th>object</th><th>float32</th><th>float32</th><th>float32</th><th>float32</th><th>float64</th><th>float32</th><th>float32</th></tr></thead>\n",
       "</table></div>"
      ],
      "text/plain": [
       "<Table length=0>\n",
       "halo_rvir halo_hostid halo_vz halo_id ... host_centric_distance    y       vy  \n",
       " float32     int64    float32  int64  ...        float64        float32 float32\n",
       "--------- ----------- ------- ------- ... --------------------- ------- -------"
      ]
     },
     "execution_count": 59,
     "metadata": {},
     "output_type": "execute_result"
    }
   ],
   "source": [
    "galaxies[galaxies['halo_hostid']==1805589089]"
   ]
  },
  {
   "cell_type": "code",
   "execution_count": 60,
   "id": "07ea87a6-d75f-4910-9787-96941093caa6",
   "metadata": {},
   "outputs": [],
   "source": [
    "def hod(galaxies_unique, halo_mass, linestyle = '--'):\n",
    "    \n",
    "    ind = np.digitize(galaxies_unique['halo_mvir'], halo_mass) # bin the halo masses\n",
    "    mean_ncen_mock = [np.sum(galaxies_unique['halo_num_centrals'][ind == i])/len(galaxies_unique['halo_num_centrals'][ind == i]) for i in range(len(halo_mass))]\n",
    "    mean_nsat_mock = [np.sum(galaxies_unique['halo_num_satellites'][ind == i])/len(galaxies_unique['halo_num_satellites'][ind == i]) for i in range(len(halo_mass))]\n",
    "    \n",
    "    plt.plot(halo_mass, mean_ncen_mock, label = 'centrals, mock', linestyle = linestyle)\n",
    "    plt.plot(halo_mass, mean_nsat_mock, label = 'satellites, mock', linestyle = linestyle)\n",
    "    plt.plot(halo_mass, np.add(mean_ncen_mock, mean_nsat_mock), label = 'total, mock', linestyle = linestyle)\n",
    "    \n",
    "    return mean_ncen_mock, mean_nsat_mock"
   ]
  },
  {
   "cell_type": "code",
   "execution_count": 61,
   "id": "56e796f0-9753-45ca-a28f-c4fb9b1ae70e",
   "metadata": {},
   "outputs": [],
   "source": [
    "unique_hostid, hostid_ind = np.unique(galaxies['halo_hostid'], return_index = True)"
   ]
  },
  {
   "cell_type": "code",
   "execution_count": 62,
   "id": "67d028a3-f2bf-47fd-9dc2-7728d86c11d4",
   "metadata": {},
   "outputs": [],
   "source": [
    "halos_unique = zheng07_model.mock.halo_table"
   ]
  },
  {
   "cell_type": "code",
   "execution_count": 63,
   "id": "fdf2d4fc-efe3-450f-b678-ad4dcfdb0f79",
   "metadata": {},
   "outputs": [],
   "source": [
    "# follow tutorial: https://halotools.readthedocs.io/en/latest/api/halotools.mock_observables.hod_from_mock.html\n",
    "# this is more accurate than previous method because you're includig the halos that have no galaxies vs all have centrals\n",
    "cenmask = galaxies['gal_type'] == 'centrals'\n",
    "central_host_mass = galaxies['halo_mvir'][cenmask]\n",
    "halo_masses = halos_unique['halo_mvir']\n",
    "haloprop_bins = np.logspace(11, 15, 15)\n",
    "mean_ncen_hod, bin_edges = hod_from_mock(central_host_mass, halo_masses, halo_mass)"
   ]
  },
  {
   "cell_type": "code",
   "execution_count": 64,
   "id": "1c68bcfa-444f-4ffe-9861-e40cb9fd5e65",
   "metadata": {},
   "outputs": [],
   "source": [
    "satmask = galaxies['gal_type'] == 'satellites'\n",
    "satellite_host_mass = galaxies['halo_mvir'][satmask]\n",
    "mean_nsat_hod, bin_edges = hod_from_mock(satellite_host_mass, halo_masses, halo_mass)"
   ]
  },
  {
   "cell_type": "code",
   "execution_count": 65,
   "id": "b6c1333b-2721-4af7-b1c7-cb4b97f7fea5",
   "metadata": {},
   "outputs": [],
   "source": [
    "def recenter(bins):\n",
    "    return 0.5*(bins[1:]+bins[:-1])"
   ]
  },
  {
   "cell_type": "code",
   "execution_count": 66,
   "id": "2199274f-c2ed-475e-b19e-f92a8bce6aa6",
   "metadata": {},
   "outputs": [
    {
     "data": {
      "image/png": "[encoded data removed]",
      "text/plain": [
       "<Figure size 432x288 with 1 Axes>"
      ]
     },
     "metadata": {
      "needs_background": "light"
     },
     "output_type": "display_data"
    }
   ],
   "source": [
    "# plt.plot(halo_mass, mean_ncen, label = 'centrals')\n",
    "# plt.plot(halo_mass, mean_nsat, label = 'satellites')\n",
    "# plt.plot(halo_mass, mean_ncen+mean_nsat, label = 'total')\n",
    "# mean_ncen_mock, mean_nsat_mock = hod(galaxies[hostid_ind], halo_mass)\n",
    "mean_ncen_mock_unique, mean_nsat_mock_unique = hod(halos_unique, halo_mass) \n",
    "# plt.plot(halo_mass, mean_ncen_mock, label = 'centrals, mock', linestyle = '--')\n",
    "# plt.plot(halo_mass, mean_nsat_mock, label = 'satellites, mock', linestyle = '--')\n",
    "# plt.plot(halo_mass, np.add(mean_ncen_mock,mean_nsat_mock), label = 'total, mock', linestyle = '--')\n",
    "plt.plot(halo_mass[1:], mean_ncen_hod, label = 'centrals')\n",
    "plt.plot(halo_mass[1:], mean_nsat_hod, label = 'satellites')\n",
    "plt.plot(halo_mass[1:], mean_ncen_hod+mean_nsat_hod, label = 'total')\n",
    "plt.xlabel('$M_\\mathrm{vir}$')\n",
    "plt.ylabel(r'$\\langle N \\rangle$')\n",
    "plt.xscale('log')\n",
    "plt.yscale('log')\n",
    "plt.legend()\n",
    "plt.show()"
   ]
  },
  {
   "cell_type": "markdown",
   "id": "441da4c9-1923-4cbf-8372-57802008a732",
   "metadata": {},
   "source": [
    "## Measure the median clustering signal from a prebuilt mock"
   ]
  },
  {
   "cell_type": "code",
   "execution_count": 67,
   "id": "2b83334b-69d1-4ae1-a5b3-190d18b876ad",
   "metadata": {},
   "outputs": [
    {
     "name": "stderr",
     "output_type": "stream",
     "text": [
      "WARNING: AstropyDeprecationWarning: `astropy.cosmology.core.FLRW` has been moved (since v5.0) and should be imported as ``from astropy.cosmology import FLRW``. In future this will raise an exception. [astropy.cosmology.core]\n",
      "WARNING: AstropyDeprecationWarning: `astropy.cosmology.core.FLRW` has been moved (since v5.0) and should be imported as ``from astropy.cosmology import FLRW``. In future this will raise an exception. [astropy.cosmology.core]\n",
      "WARNING: AstropyDeprecationWarning: `astropy.cosmology.core.FLRW` has been moved (since v5.0) and should be imported as ``from astropy.cosmology import FLRW``. In future this will raise an exception. [astropy.cosmology.core]\n"
     ]
    }
   ],
   "source": [
    "r, xi_cc, xi_cs, xi_ss = zheng07_model.compute_average_galaxy_clustering(gal_type = 'centrals', include_crosscorr = True, num_iterations = 3, num_threads = 'max')"
   ]
  },
  {
   "cell_type": "code",
   "execution_count": 68,
   "id": "301c4531-505c-446e-b37d-5271da21780a",
   "metadata": {},
   "outputs": [
    {
     "name": "stderr",
     "output_type": "stream",
     "text": [
      "WARNING: AstropyDeprecationWarning: `astropy.cosmology.core.FLRW` has been moved (since v5.0) and should be imported as ``from astropy.cosmology import FLRW``. In future this will raise an exception. [astropy.cosmology.core]\n",
      "WARNING: AstropyDeprecationWarning: `astropy.cosmology.core.FLRW` has been moved (since v5.0) and should be imported as ``from astropy.cosmology import FLRW``. In future this will raise an exception. [astropy.cosmology.core]\n",
      "WARNING: AstropyDeprecationWarning: `astropy.cosmology.core.FLRW` has been moved (since v5.0) and should be imported as ``from astropy.cosmology import FLRW``. In future this will raise an exception. [astropy.cosmology.core]\n"
     ]
    }
   ],
   "source": [
    "r, xi_cc_auto = zheng07_model.compute_average_galaxy_clustering(gal_type = 'centrals', include_crosscorr = False, num_iterations = 3, num_threads = 'max')"
   ]
  },
  {
   "cell_type": "code",
   "execution_count": 69,
   "id": "c381db87-e3a0-4b10-b0e6-c4f73412ce6c",
   "metadata": {},
   "outputs": [
    {
     "name": "stderr",
     "output_type": "stream",
     "text": [
      "WARNING: AstropyDeprecationWarning: `astropy.cosmology.core.FLRW` has been moved (since v5.0) and should be imported as ``from astropy.cosmology import FLRW``. In future this will raise an exception. [astropy.cosmology.core]\n",
      "WARNING: AstropyDeprecationWarning: `astropy.cosmology.core.FLRW` has been moved (since v5.0) and should be imported as ``from astropy.cosmology import FLRW``. In future this will raise an exception. [astropy.cosmology.core]\n",
      "WARNING: AstropyDeprecationWarning: `astropy.cosmology.core.FLRW` has been moved (since v5.0) and should be imported as ``from astropy.cosmology import FLRW``. In future this will raise an exception. [astropy.cosmology.core]\n"
     ]
    }
   ],
   "source": [
    "r, xi_ss_auto = zheng07_model.compute_average_galaxy_clustering(gal_type = 'satellites', include_crosscorr = False, num_iterations = 3, num_threads = 'max')"
   ]
  },
  {
   "cell_type": "code",
   "execution_count": 70,
   "id": "8c37022d-a6e3-4945-a67a-2475af21bf02",
   "metadata": {},
   "outputs": [
    {
     "name": "stderr",
     "output_type": "stream",
     "text": [
      "WARNING: AstropyDeprecationWarning: `astropy.cosmology.core.FLRW` has been moved (since v5.0) and should be imported as ``from astropy.cosmology import FLRW``. In future this will raise an exception. [astropy.cosmology.core]\n",
      "WARNING: AstropyDeprecationWarning: `astropy.cosmology.core.FLRW` has been moved (since v5.0) and should be imported as ``from astropy.cosmology import FLRW``. In future this will raise an exception. [astropy.cosmology.core]\n",
      "WARNING: AstropyDeprecationWarning: `astropy.cosmology.core.FLRW` has been moved (since v5.0) and should be imported as ``from astropy.cosmology import FLRW``. In future this will raise an exception. [astropy.cosmology.core]\n"
     ]
    }
   ],
   "source": [
    "r, xi = zheng07_model.compute_average_galaxy_clustering(include_crosscorr = False, num_iterations = 3, num_threads = 'max')"
   ]
  },
  {
   "cell_type": "code",
   "execution_count": 71,
   "id": "e26ca06a-6e0f-4e5e-a462-3ffd814d9acb",
   "metadata": {},
   "outputs": [
    {
     "data": {
      "image/png": "[encoded data removed]",
      "text/plain": [
       "<Figure size 432x288 with 1 Axes>"
      ]
     },
     "metadata": {
      "needs_background": "light"
     },
     "output_type": "display_data"
    },
    {
     "data": {
      "image/png": "[encoded data removed]",
      "text/plain": [
       "<Figure size 432x288 with 1 Axes>"
      ]
     },
     "metadata": {
      "needs_background": "light"
     },
     "output_type": "display_data"
    },
    {
     "data": {
      "image/png": "[encoded data removed]",
      "text/plain": [
       "<Figure size 432x288 with 1 Axes>"
      ]
     },
     "metadata": {
      "needs_background": "light"
     },
     "output_type": "display_data"
    },
    {
     "data": {
      "image/png": "[encoded data removed]",
      "text/plain": [
       "<Figure size 432x288 with 1 Axes>"
      ]
     },
     "metadata": {
      "needs_background": "light"
     },
     "output_type": "display_data"
    }
   ],
   "source": [
    "plt.plot(r, xi, label = 'all galaxies')\n",
    "plt.plot(r, xi_cc_auto, label = 'CC, cross correlation')\n",
    "plt.plot(r, xi_cc, label = 'CC, no cross correlation', linestyle = '--')\n",
    "plt.xlabel('r')\n",
    "plt.ylabel(r'$\\xi(r)$')\n",
    "plt.xscale('log')\n",
    "plt.yscale('log')\n",
    "plt.legend()\n",
    "plt.show()\n",
    "\n",
    "plt.plot(r, xi, label = 'all galaxies')\n",
    "plt.plot(r, xi_cs, label = 'CS, cross correlation')\n",
    "plt.legend()\n",
    "plt.xlabel('r')\n",
    "plt.ylabel(r'$\\xi(r)$')\n",
    "plt.xscale('log')\n",
    "plt.yscale('log')\n",
    "plt.show()\n",
    "\n",
    "plt.plot(r, xi, label = 'all galaxies')\n",
    "plt.plot(r, xi_ss_auto, label = 'SS, cross correlation')\n",
    "plt.plot(r, xi_ss, label = 'SS, no cross correlation', linestyle = '--')\n",
    "plt.xlabel('r')\n",
    "plt.ylabel(r'$\\xi(r)$')\n",
    "plt.xscale('log')\n",
    "plt.yscale('log')\n",
    "plt.legend()\n",
    "plt.show()\n",
    "\n",
    "plt.plot(r, xi)\n",
    "plt.title('all galaxies')\n",
    "plt.xlabel('r')\n",
    "plt.ylabel(r'$\\xi(r)$')\n",
    "plt.xscale('log')\n",
    "plt.yscale('log')\n",
    "plt.show()"
   ]
  },
  {
   "cell_type": "markdown",
   "id": "d5e3773f-fd86-47e9-877a-aa849fb51c83",
   "metadata": {},
   "source": [
    "# Calculate wp of halotools mock using Corrfunc"
   ]
  },
  {
   "cell_type": "code",
   "execution_count": 72,
   "id": "e2d954f7-6dd0-49b9-8e26-d17d76f41282",
   "metadata": {},
   "outputs": [],
   "source": [
    "# Create the bins array\n",
    "rmin = 0.5 # 0.1 # start higher\n",
    "rmax = 60.0 # 20.0 \n",
    "nbins = 20 \n",
    "rbins = np.logspace(np.log10(rmin), np.log10(rmax), nbins + 1) # Mpc/h https://github.com/manodeep/Corrfunc/issues/202"
   ]
  },
  {
   "cell_type": "code",
   "execution_count": 73,
   "id": "d3e64d85-1047-4de8-955a-73d0432c799d",
   "metadata": {},
   "outputs": [],
   "source": [
    "pimax = 40.0"
   ]
  },
  {
   "cell_type": "code",
   "execution_count": 76,
   "id": "ed84e211-6093-47d1-a14c-dc177cd116e6",
   "metadata": {},
   "outputs": [],
   "source": [
    "results = theory.wp(boxsize = 1000, nthreads = 8, pimax = pimax, binfile = rbins, X = galaxies['x'], Y = galaxies['y'], \n",
    "                      Z = galaxies['z'], output_rpavg = True) "
   ]
  },
  {
   "cell_type": "code",
   "execution_count": 77,
   "id": "8e1ef7c0-e5a1-41d3-b8a5-4961e7f5efc1",
   "metadata": {},
   "outputs": [],
   "source": [
    "rpavg = np.load('../results/rpavg_data.npy')\n",
    "wp = np.load('../results/wp_rmin{}_rmax{}_pimax{}_comoving_flat_sel_rpavg_data.npy'.format(str(rmin), str(rmax), str(pimax)))"
   ]
  },
  {
   "cell_type": "code",
   "execution_count": 78,
   "id": "4dec630c-29e0-40d4-843b-f4f8f1b80d40",
   "metadata": {},
   "outputs": [
    {
     "data": {
      "image/png": "[encoded data removed]",
      "text/plain": [
       "<Figure size 432x288 with 1 Axes>"
      ]
     },
     "metadata": {
      "needs_background": "light"
     },
     "output_type": "display_data"
    }
   ],
   "source": [
    "plt.scatter(results['rpavg'], results['wp'], label = 'multidark, zheng07')\n",
    "plt.scatter(rpavg, wp, label = 'quaia')\n",
    "plt.xlabel(r'$r_{p}$ $[h^{-1}$ Mpc]') # projected\n",
    "plt.ylabel(\"$w_p$ $[h^{-1}$ Mpc]\")\n",
    "plt.xscale('log')\n",
    "plt.yscale('log')\n",
    "# plt.xlim(1e-2,1e2)\n",
    "# plt.ylim(1e-1,1e4)\n",
    "plt.legend()\n",
    "plt.show()"
   ]
  },
  {
   "cell_type": "markdown",
   "id": "56cedbaa-cd23-4091-93b1-0224204d556f",
   "metadata": {},
   "source": [
    "### Try varying $z$"
   ]
  },
  {
   "cell_type": "code",
   "execution_count": 82,
   "id": "d96c0c36-3c06-4609-a83f-1803b40c3b7c",
   "metadata": {},
   "outputs": [],
   "source": [
    "cmap = plt.get_cmap('Greys')(np.linspace(0.333, 0.999, 4))\n",
    "z = [0, 0.5, 1, 2.15]"
   ]
  },
  {
   "cell_type": "code",
   "execution_count": 84,
   "id": "f9a721d8-4bea-41d9-b106-984dc4b0b933",
   "metadata": {},
   "outputs": [
    {
     "name": "stderr",
     "output_type": "stream",
     "text": [
      "WARNING: AstropyDeprecationWarning: `astropy.cosmology.core.FLRW` has been moved (since v5.0) and should be imported as ``from astropy.cosmology import FLRW``. In future this will raise an exception. [astropy.cosmology.core]\n",
      "WARNING: AstropyDeprecationWarning: `astropy.cosmology.core.FLRW` has been moved (since v5.0) and should be imported as ``from astropy.cosmology import FLRW``. In future this will raise an exception. [astropy.cosmology.core]\n",
      "WARNING: AstropyDeprecationWarning: `astropy.cosmology.core.FLRW` has been moved (since v5.0) and should be imported as ``from astropy.cosmology import FLRW``. In future this will raise an exception. [astropy.cosmology.core]\n",
      "WARNING: AstropyDeprecationWarning: `astropy.cosmology.core.FLRW` has been moved (since v5.0) and should be imported as ``from astropy.cosmology import FLRW``. In future this will raise an exception. [astropy.cosmology.core]\n"
     ]
    },
    {
     "data": {
      "image/png": "[encoded data removed]",
      "text/plain": [
       "<Figure size 432x288 with 1 Axes>"
      ]
     },
     "metadata": {
      "needs_background": "light"
     },
     "output_type": "display_data"
    }
   ],
   "source": [
    "for i in range(len(z)):\n",
    "    \n",
    "    zheng07_model = PrebuiltHodModelFactory('zheng07', threshold = -19.5, redshift = z[i])\n",
    "    halocat = CachedHaloCatalog(simname = 'multidark', redshift = z[i])\n",
    "    zheng07_model.populate_mock(halocat)\n",
    "    galaxies = zheng07_model.mock.galaxy_table\n",
    "\n",
    "    results = theory.wp(boxsize = 1000, nthreads = 8, pimax = pimax, binfile = rbins, X = galaxies['x'], Y = galaxies['y'], \n",
    "                          Z = galaxies['z'], output_rpavg = True) \n",
    "    \n",
    "    plt.plot(results['rpavg'], results['wp'], label = 'z='+str(z[i]), color = cmap[i])\n",
    "    \n",
    "plt.scatter(rpavg, wp, label = 'quaia')\n",
    "plt.xlabel(r'$r_{p}$ $[h^{-1}$ Mpc]') # projected\n",
    "plt.ylabel(\"$w_p$ $[h^{-1}$ Mpc]\")\n",
    "plt.xscale('log')\n",
    "plt.yscale('log')\n",
    "plt.title('multidark, zheng07')\n",
    "plt.legend()\n",
    "plt.show()"
   ]
  },
  {
   "cell_type": "markdown",
   "id": "ae917c4a-ed3e-4550-8718-f9e2e96ed6bc",
   "metadata": {},
   "source": [
    "# Questions\n",
    "- halo_pid points to any specific subhalo? or it just tells you it's a sub-subhalo?\n",
    "- halo_id vs halo_hostid for galaxies?\n",
    "- halo_x vs x for galaxies? halo_vx vs vx? just host halo vs central galaxy?\n",
    "- do i need to design my own galaxy-halo model?\n",
    "- will I use halo_tools clustering or corrfunc clustering? \n",
    "    - compute_average_galaxy_clustering shouldn't be used in MCMC, and wp function doesn't work on observable data... how do you use halotools with corrfunc?\n",
    "- confused about bin edges?\n",
    "- survey realism? lightcone, ra + dec instead of cartesian, selfunc, rsds?"
   ]
  },
  {
   "cell_type": "code",
   "execution_count": null,
   "id": "14392310-0a28-47a1-a2ce-af9ba417d8ac",
   "metadata": {},
   "outputs": [],
   "source": []
  }
 ],
 "metadata": {
  "kernelspec": {
   "display_name": "Python (jupyter-env)",
   "language": "python",
   "name": "jupyter-env"
  },
  "language_info": {
   "codemirror_mode": {
    "name": "ipython",
    "version": 3
   },
   "file_extension": ".py",
   "mimetype": "text/x-python",
   "name": "python",
   "nbconvert_exporter": "python",
   "pygments_lexer": "ipython3",
   "version": "3.8.16"
  }
 },
 "nbformat": 4,
 "nbformat_minor": 5
}
