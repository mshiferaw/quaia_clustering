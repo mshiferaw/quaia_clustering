{
 "cells": [
  {
   "cell_type": "code",
   "execution_count": 39,
   "id": "5096850b-5f6f-4d01-b3c8-38d48df8834a",
   "metadata": {},
   "outputs": [],
   "source": [
    "from halotools.sim_manager import CachedHaloCatalog\n",
    "from halotools.empirical_models import PrebuiltHodModelFactory\n",
    "import numpy as np\n",
    "from matplotlib import pyplot as plt\n",
    "from halotools.mock_observables import hod_from_mock\n",
    "from Corrfunc import theory\n",
    "from Corrfunc.utils import convert_rp_pi_counts_to_wp"
   ]
  },
  {
   "cell_type": "markdown",
   "id": "9efea86a-38f2-406e-827c-4609c4f2247f",
   "metadata": {},
   "source": [
    "# Build models and make mocks\n",
    "## Use prebuilt model provided by halotools"
   ]
  },
  {
   "cell_type": "code",
   "execution_count": 2,
   "id": "e8c9b767-97bd-4c49-b4fa-2a101ea24926",
   "metadata": {},
   "outputs": [
    {
     "name": "stderr",
     "output_type": "stream",
     "text": [
      "WARNING: AstropyDeprecationWarning: `astropy.cosmology.core.FLRW` has been moved (since v5.0) and should be imported as ``from astropy.cosmology import FLRW``. In future this will raise an exception. [astropy.cosmology.core]\n"
     ]
    }
   ],
   "source": [
    "zheng07_model = PrebuiltHodModelFactory('zheng07', threshold = -19.5, redshift = 0.5)"
   ]
  },
  {
   "cell_type": "code",
   "execution_count": 5,
   "id": "d0d4ef1d-76bc-44a3-833a-fc46375204fb",
   "metadata": {},
   "outputs": [
    {
     "data": {
      "text/plain": [
       "{'logMmin': 12.5,\n",
       " 'sigma_logM': 0.28,\n",
       " 'logM0': 11.69,\n",
       " 'logM1': 13.01,\n",
       " 'alpha': 1.06}"
      ]
     },
     "execution_count": 5,
     "metadata": {},
     "output_type": "execute_result"
    }
   ],
   "source": [
    "zheng07_model.param_dict"
   ]
  },
  {
   "cell_type": "code",
   "execution_count": 4,
   "id": "9f894003-76fb-483b-98a3-066cf950ad96",
   "metadata": {},
   "outputs": [],
   "source": [
    "zheng07_model.param_dict['logMmin'] = 12.5"
   ]
  },
  {
   "cell_type": "code",
   "execution_count": 6,
   "id": "07cd9de9-a7b6-49e0-af09-2e132251e483",
   "metadata": {},
   "outputs": [],
   "source": [
    "halocat = CachedHaloCatalog(simname = 'bolshoi', redshift = 0.5)"
   ]
  },
  {
   "cell_type": "code",
   "execution_count": 7,
   "id": "c5667c36-4dcd-424e-a089-555427ccd584",
   "metadata": {},
   "outputs": [],
   "source": [
    "halos = halocat.halo_table"
   ]
  },
  {
   "cell_type": "code",
   "execution_count": 8,
   "id": "7826db85-47a6-429b-a5d9-0bfbe0b4e625",
   "metadata": {},
   "outputs": [
    {
     "name": "stdout",
     "output_type": "stream",
     "text": [
      "halo_vmax_firstacc halo_dmvir_dt_tdyn ... halo_hostid halo_mvir_host_halo\n",
      "------------------ ------------------ ... ----------- -------------------\n",
      "            917.78             6630.0 ...  1805589089   117300000000000.0\n",
      "            100.65              280.6 ...  1805589089   117300000000000.0\n",
      "              91.4             -3.247 ...  1805589089   117300000000000.0\n",
      "             63.53              1.725 ...  1805589089   117300000000000.0\n",
      "            264.93             -57.76 ...  1805589089   117300000000000.0\n",
      "             87.28            -0.4211 ...  1805589089   117300000000000.0\n",
      "             92.93             -2.533 ...  1805589460       27670000000.0\n",
      "             84.96             -1.642 ...  1805589089   117300000000000.0\n",
      "            121.69             -3.265 ...  1805589089   117300000000000.0\n"
     ]
    }
   ],
   "source": [
    "print(halos[0:9])"
   ]
  },
  {
   "cell_type": "code",
   "execution_count": 9,
   "id": "e7288229-be07-4213-a301-7c4efdaa9360",
   "metadata": {},
   "outputs": [
    {
     "name": "stdout",
     "output_type": "stream",
     "text": [
      "['halo_vmax_firstacc', 'halo_dmvir_dt_tdyn', 'halo_macc', 'halo_scale_factor', 'halo_vmax_mpeak', 'halo_m_pe_behroozi', 'halo_xoff', 'halo_spin', 'halo_scale_factor_firstacc', 'halo_c_to_a', 'halo_mvir_firstacc', 'halo_scale_factor_last_mm', 'halo_scale_factor_mpeak', 'halo_pid', 'halo_m500c', 'halo_id', 'halo_halfmass_scale_factor', 'halo_upid', 'halo_t_by_u', 'halo_rvir', 'halo_vpeak', 'halo_dmvir_dt_100myr', 'halo_mpeak', 'halo_m_pe_diemer', 'halo_jx', 'halo_jy', 'halo_jz', 'halo_m2500c', 'halo_mvir', 'halo_voff', 'halo_axisA_z', 'halo_axisA_x', 'halo_axisA_y', 'halo_y', 'halo_b_to_a', 'halo_x', 'halo_z', 'halo_m200b', 'halo_vacc', 'halo_scale_factor_lastacc', 'halo_vmax', 'halo_m200c', 'halo_vx', 'halo_vy', 'halo_vz', 'halo_dmvir_dt_inst', 'halo_rs', 'halo_nfw_conc', 'halo_hostid', 'halo_mvir_host_halo']\n"
     ]
    }
   ],
   "source": [
    "print(halos.keys())"
   ]
  },
  {
   "cell_type": "code",
   "execution_count": 10,
   "id": "8f650b05-1fe3-42af-8acb-20c8eae74632",
   "metadata": {},
   "outputs": [
    {
     "data": {
      "text/html": [
       "<div><i>Table length=1420182</i>\n",
       "<table id=\"table140680600570752\" class=\"table-striped table-bordered table-condensed\">\n",
       "<thead><tr><th>halo_pid</th><th>halo_upid</th><th>halo_hostid</th><th>halo_z</th><th>halo_vz</th></tr></thead>\n",
       "<thead><tr><th>int64</th><th>int64</th><th>int64</th><th>float32</th><th>float32</th></tr></thead>\n",
       "<tr><td>-1</td><td>-1</td><td>1805589089</td><td>18.18657</td><td>-119.05</td></tr>\n",
       "<tr><td>1805589089</td><td>1805589089</td><td>1805589089</td><td>18.20386</td><td>-38.88</td></tr>\n",
       "<tr><td>1805589198</td><td>1805589089</td><td>1805589089</td><td>18.06294</td><td>262.81</td></tr>\n",
       "<tr><td>1805590461</td><td>1805589089</td><td>1805589089</td><td>17.87904</td><td>-382.43</td></tr>\n",
       "<tr><td>1805589089</td><td>1805589089</td><td>1805589089</td><td>18.35121</td><td>61.77</td></tr>\n",
       "<tr><td>1805589089</td><td>1805589089</td><td>1805589089</td><td>18.4579</td><td>-532.1</td></tr>\n",
       "<tr><td>-1</td><td>-1</td><td>1805589460</td><td>17.52933</td><td>97.16</td></tr>\n",
       "<tr><td>1805589089</td><td>1805589089</td><td>1805589089</td><td>18.20446</td><td>-629.8</td></tr>\n",
       "<tr><td>1805589089</td><td>1805589089</td><td>1805589089</td><td>18.12643</td><td>-346.33</td></tr>\n",
       "<tr><td>1805589198</td><td>1805589089</td><td>1805589089</td><td>18.21831</td><td>-115.55</td></tr>\n",
       "<tr><td>...</td><td>...</td><td>...</td><td>...</td><td>...</td></tr>\n",
       "<tr><td>1818327532</td><td>1818327532</td><td>1818327532</td><td>224.98357</td><td>-365.07</td></tr>\n",
       "<tr><td>1818352402</td><td>1818352357</td><td>1818352357</td><td>245.43846</td><td>-135.57</td></tr>\n",
       "<tr><td>-1</td><td>-1</td><td>1818314110</td><td>213.64597</td><td>212.42</td></tr>\n",
       "<tr><td>1818295246</td><td>1818295250</td><td>1818295250</td><td>207.61368</td><td>82.45</td></tr>\n",
       "<tr><td>1818353158</td><td>1818353158</td><td>1818353158</td><td>247.22607</td><td>122.24</td></tr>\n",
       "<tr><td>1818311770</td><td>1818311770</td><td>1818311770</td><td>218.91487</td><td>-482.39</td></tr>\n",
       "<tr><td>-1</td><td>-1</td><td>1818312752</td><td>217.82092</td><td>-96.74</td></tr>\n",
       "<tr><td>1818327655</td><td>1818327655</td><td>1818327655</td><td>221.87311</td><td>-38.0</td></tr>\n",
       "<tr><td>-1</td><td>-1</td><td>1818336293</td><td>229.55841</td><td>-282.02</td></tr>\n",
       "<tr><td>-1</td><td>-1</td><td>1818314414</td><td>218.01546</td><td>-137.91</td></tr>\n",
       "</table></div>"
      ],
      "text/plain": [
       "<Table length=1420182>\n",
       " halo_pid  halo_upid  halo_hostid   halo_z  halo_vz\n",
       "  int64      int64       int64     float32  float32\n",
       "---------- ---------- ----------- --------- -------\n",
       "        -1         -1  1805589089  18.18657 -119.05\n",
       "1805589089 1805589089  1805589089  18.20386  -38.88\n",
       "1805589198 1805589089  1805589089  18.06294  262.81\n",
       "1805590461 1805589089  1805589089  17.87904 -382.43\n",
       "1805589089 1805589089  1805589089  18.35121   61.77\n",
       "1805589089 1805589089  1805589089   18.4579  -532.1\n",
       "        -1         -1  1805589460  17.52933   97.16\n",
       "1805589089 1805589089  1805589089  18.20446  -629.8\n",
       "1805589089 1805589089  1805589089  18.12643 -346.33\n",
       "1805589198 1805589089  1805589089  18.21831 -115.55\n",
       "       ...        ...         ...       ...     ...\n",
       "1818327532 1818327532  1818327532 224.98357 -365.07\n",
       "1818352402 1818352357  1818352357 245.43846 -135.57\n",
       "        -1         -1  1818314110 213.64597  212.42\n",
       "1818295246 1818295250  1818295250 207.61368   82.45\n",
       "1818353158 1818353158  1818353158 247.22607  122.24\n",
       "1818311770 1818311770  1818311770 218.91487 -482.39\n",
       "        -1         -1  1818312752 217.82092  -96.74\n",
       "1818327655 1818327655  1818327655 221.87311   -38.0\n",
       "        -1         -1  1818336293 229.55841 -282.02\n",
       "        -1         -1  1818314414 218.01546 -137.91"
      ]
     },
     "execution_count": 10,
     "metadata": {},
     "output_type": "execute_result"
    }
   ],
   "source": [
    "halos['halo_pid', 'halo_upid', 'halo_hostid', 'halo_z', 'halo_vz']"
   ]
  },
  {
   "cell_type": "code",
   "execution_count": 11,
   "id": "d6a0310e-9451-4681-87c1-5d380ccfc3a0",
   "metadata": {},
   "outputs": [
    {
     "data": {
      "text/html": [
       "&lt;Column name=&apos;halo_hostid&apos; dtype=&apos;int64&apos; length=2&gt;\n",
       "<table>\n",
       "<tr><td>1805589089</td></tr>\n",
       "<tr><td>1805589089</td></tr>\n",
       "</table>"
      ],
      "text/plain": [
       "<Column name='halo_hostid' dtype='int64' length=2>\n",
       "1805589089\n",
       "1805589089"
      ]
     },
     "execution_count": 11,
     "metadata": {},
     "output_type": "execute_result"
    }
   ],
   "source": [
    "halos['halo_hostid'][halos['halo_pid']==1805590461\t] # halo pid doesn't point to a specific upid or host id"
   ]
  },
  {
   "cell_type": "code",
   "execution_count": 12,
   "id": "b40bdc08-064f-4759-848a-1f7ce5b956ed",
   "metadata": {},
   "outputs": [
    {
     "name": "stderr",
     "output_type": "stream",
     "text": [
      "WARNING: AstropyDeprecationWarning: `astropy.cosmology.core.FLRW` has been moved (since v5.0) and should be imported as ``from astropy.cosmology import FLRW``. In future this will raise an exception. [astropy.cosmology.core]\n"
     ]
    }
   ],
   "source": [
    "zheng07_model.populate_mock(halocat)"
   ]
  },
  {
   "cell_type": "code",
   "execution_count": 13,
   "id": "609586b7-233b-4705-b475-b335eff26458",
   "metadata": {},
   "outputs": [],
   "source": [
    "galaxies = zheng07_model.mock.galaxy_table"
   ]
  },
  {
   "cell_type": "code",
   "execution_count": 14,
   "id": "b14f48ee-be7f-4256-ad79-ef04bb358667",
   "metadata": {},
   "outputs": [
    {
     "data": {
      "text/plain": [
       "(40411, 1420182)"
      ]
     },
     "execution_count": 14,
     "metadata": {},
     "output_type": "execute_result"
    }
   ],
   "source": [
    "len(galaxies), len(halos)"
   ]
  },
  {
   "cell_type": "code",
   "execution_count": 15,
   "id": "30438353-3a25-4c41-8dc8-3b9a2f683417",
   "metadata": {},
   "outputs": [
    {
     "name": "stdout",
     "output_type": "stream",
     "text": [
      "conc_NFWmodel halo_vz  halo_z   halo_y  ...    z        vx      y    \n",
      "------------- ------- -------- -------- ... -------- ------- --------\n",
      "     7.580469 -119.05 18.18657 43.13491 ... 18.18657    1.78 43.13491\n",
      "     6.086661 -152.86 40.30439 47.97213 ... 40.30439     8.0 47.97213\n",
      "      4.99024  -69.74  9.67113 13.35399 ...  9.67113   38.31 13.35399\n",
      "    4.7608867 -124.57  5.36992 13.84255 ...  5.36992 -218.03 13.84255\n",
      "    6.3773103   202.1  16.9269 28.60934 ...  16.9269  194.08 28.60934\n",
      "    5.0810647 -216.25 23.38622 25.34845 ... 23.38622  271.41 25.34845\n",
      "     7.095217 -435.21 35.39057  36.3899 ... 35.39057 -102.59  36.3899\n",
      "    2.9417496  -94.42 41.96936  6.15593 ... 41.96936 -363.17  6.15593\n",
      "    6.3318415 -539.47 40.50043 23.39546 ... 40.50043 -127.37 23.39546\n"
     ]
    }
   ],
   "source": [
    "print(galaxies[0:9])"
   ]
  },
  {
   "cell_type": "code",
   "execution_count": 16,
   "id": "fd7306c4-011e-482b-bf1d-0f990b83d8aa",
   "metadata": {},
   "outputs": [
    {
     "name": "stdout",
     "output_type": "stream",
     "text": [
      "['conc_NFWmodel', 'halo_vz', 'halo_z', 'halo_y', 'halo_x', 'halo_vx', 'halo_hostid', 'halo_rvir', 'halo_upid', 'halo_id', 'halo_mvir', 'halo_vy', 'halo_num_centrals', 'halo_num_satellites', 'gal_type', 'x', 'vz', 'vy', 'host_centric_distance', 'z', 'vx', 'y']\n"
     ]
    }
   ],
   "source": [
    "print(galaxies.keys())"
   ]
  },
  {
   "cell_type": "code",
   "execution_count": 17,
   "id": "63365121-d4f9-4ab3-9ad1-d794a77bc306",
   "metadata": {},
   "outputs": [
    {
     "data": {
      "text/html": [
       "<div><i>Table length=40411</i>\n",
       "<table id=\"table140680600567872\" class=\"table-striped table-bordered table-condensed\">\n",
       "<thead><tr><th>halo_id</th><th>halo_hostid</th><th>halo_mvir</th><th>halo_upid</th><th>halo_num_centrals</th><th>halo_num_satellites</th><th>halo_z</th><th>halo_vz</th><th>gal_type</th><th>z</th><th>vz</th></tr></thead>\n",
       "<thead><tr><th>int64</th><th>int64</th><th>float32</th><th>int64</th><th>int32</th><th>int32</th><th>float32</th><th>float32</th><th>object</th><th>float32</th><th>float32</th></tr></thead>\n",
       "<tr><td>1805589089</td><td>1805589089</td><td>117300000000000.0</td><td>-1</td><td>1</td><td>18</td><td>18.18657</td><td>-119.05</td><td>centrals</td><td>18.18657</td><td>-119.05</td></tr>\n",
       "<tr><td>1805604915</td><td>1805604915</td><td>102300000000000.0</td><td>-1</td><td>1</td><td>7</td><td>40.30439</td><td>-152.86</td><td>centrals</td><td>40.30439</td><td>-152.86</td></tr>\n",
       "<tr><td>1803484120</td><td>1803484120</td><td>90970000000000.0</td><td>-1</td><td>1</td><td>9</td><td>9.67113</td><td>-69.74</td><td>centrals</td><td>9.67113</td><td>-69.74</td></tr>\n",
       "<tr><td>1803485520</td><td>1803485520</td><td>55590000000000.0</td><td>-1</td><td>1</td><td>5</td><td>5.36992</td><td>-124.57</td><td>centrals</td><td>5.36992</td><td>-124.57</td></tr>\n",
       "<tr><td>1803497704</td><td>1803497704</td><td>60820000000000.0</td><td>-1</td><td>1</td><td>9</td><td>16.9269</td><td>202.1</td><td>centrals</td><td>16.9269</td><td>202.1</td></tr>\n",
       "<tr><td>1803511225</td><td>1803511225</td><td>59740000000000.0</td><td>-1</td><td>1</td><td>5</td><td>23.38622</td><td>-216.25</td><td>centrals</td><td>23.38622</td><td>-216.25</td></tr>\n",
       "<tr><td>1803756359</td><td>1803756359</td><td>41870000000000.0</td><td>-1</td><td>1</td><td>5</td><td>35.39057</td><td>-435.21</td><td>centrals</td><td>35.39057</td><td>-435.21</td></tr>\n",
       "<tr><td>1805383224</td><td>1805383224</td><td>59940000000000.0</td><td>-1</td><td>1</td><td>14</td><td>41.96936</td><td>-94.42</td><td>centrals</td><td>41.96936</td><td>-94.42</td></tr>\n",
       "<tr><td>1803527194</td><td>1803527194</td><td>49310000000000.0</td><td>-1</td><td>1</td><td>5</td><td>40.50043</td><td>-539.47</td><td>centrals</td><td>40.50043</td><td>-539.47</td></tr>\n",
       "<tr><td>1803525841</td><td>1803525841</td><td>48370000000000.0</td><td>-1</td><td>1</td><td>6</td><td>34.83685</td><td>-555.31</td><td>centrals</td><td>34.83685</td><td>-555.31</td></tr>\n",
       "<tr><td>...</td><td>...</td><td>...</td><td>...</td><td>...</td><td>...</td><td>...</td><td>...</td><td>...</td><td>...</td><td>...</td></tr>\n",
       "<tr><td>1818315838</td><td>1818315838</td><td>870100000000.0</td><td>-1</td><td>0</td><td>1</td><td>212.86865</td><td>415.77</td><td>satellites</td><td>212.8729</td><td>566.7751</td></tr>\n",
       "<tr><td>1816262080</td><td>1816262080</td><td>798600000000.0</td><td>-1</td><td>0</td><td>1</td><td>218.65117</td><td>-175.02</td><td>satellites</td><td>218.60405</td><td>-350.93723</td></tr>\n",
       "<tr><td>1818078507</td><td>1818078507</td><td>923300000000.0</td><td>-1</td><td>0</td><td>1</td><td>200.75627</td><td>58.65</td><td>satellites</td><td>200.95184</td><td>-96.33816</td></tr>\n",
       "<tr><td>1818315812</td><td>1818315812</td><td>735200000000.0</td><td>-1</td><td>0</td><td>1</td><td>217.32314</td><td>147.45</td><td>satellites</td><td>217.32777</td><td>243.3647</td></tr>\n",
       "<tr><td>1818336566</td><td>1818336566</td><td>956000000000.0</td><td>-1</td><td>0</td><td>1</td><td>228.7963</td><td>-86.91</td><td>satellites</td><td>228.782</td><td>-45.598003</td></tr>\n",
       "<tr><td>1816483868</td><td>1816483868</td><td>794600000000.0</td><td>-1</td><td>0</td><td>1</td><td>204.77246</td><td>-94.02</td><td>satellites</td><td>204.64127</td><td>21.033499</td></tr>\n",
       "<tr><td>1818324927</td><td>1818324927</td><td>9225000000000.0</td><td>-1</td><td>1</td><td>2</td><td>223.10173</td><td>-45.43</td><td>satellites</td><td>223.16623</td><td>31.567612</td></tr>\n",
       "<tr><td>1818324927</td><td>1818324927</td><td>9225000000000.0</td><td>-1</td><td>1</td><td>2</td><td>223.10173</td><td>-45.43</td><td>satellites</td><td>223.11996</td><td>306.1218</td></tr>\n",
       "<tr><td>1816508837</td><td>1816508837</td><td>1350000000000.0</td><td>-1</td><td>0</td><td>1</td><td>238.54369</td><td>337.45</td><td>satellites</td><td>238.6677</td><td>385.03595</td></tr>\n",
       "<tr><td>1816478123</td><td>1816478123</td><td>1281000000000.0</td><td>-1</td><td>0</td><td>1</td><td>203.40134</td><td>227.84</td><td>satellites</td><td>203.26526</td><td>107.34309</td></tr>\n",
       "</table></div>"
      ],
      "text/plain": [
       "<Table length=40411>\n",
       " halo_id   halo_hostid     halo_mvir     ...  gal_type      z         vz    \n",
       "  int64       int64         float32      ...   object    float32   float32  \n",
       "---------- ----------- ----------------- ... ---------- --------- ----------\n",
       "1805589089  1805589089 117300000000000.0 ...   centrals  18.18657    -119.05\n",
       "1805604915  1805604915 102300000000000.0 ...   centrals  40.30439    -152.86\n",
       "1803484120  1803484120  90970000000000.0 ...   centrals   9.67113     -69.74\n",
       "1803485520  1803485520  55590000000000.0 ...   centrals   5.36992    -124.57\n",
       "1803497704  1803497704  60820000000000.0 ...   centrals   16.9269      202.1\n",
       "1803511225  1803511225  59740000000000.0 ...   centrals  23.38622    -216.25\n",
       "1803756359  1803756359  41870000000000.0 ...   centrals  35.39057    -435.21\n",
       "1805383224  1805383224  59940000000000.0 ...   centrals  41.96936     -94.42\n",
       "1803527194  1803527194  49310000000000.0 ...   centrals  40.50043    -539.47\n",
       "1803525841  1803525841  48370000000000.0 ...   centrals  34.83685    -555.31\n",
       "       ...         ...               ... ...        ...       ...        ...\n",
       "1818315838  1818315838    870100000000.0 ... satellites  212.8729   566.7751\n",
       "1816262080  1816262080    798600000000.0 ... satellites 218.60405 -350.93723\n",
       "1818078507  1818078507    923300000000.0 ... satellites 200.95184  -96.33816\n",
       "1818315812  1818315812    735200000000.0 ... satellites 217.32777   243.3647\n",
       "1818336566  1818336566    956000000000.0 ... satellites   228.782 -45.598003\n",
       "1816483868  1816483868    794600000000.0 ... satellites 204.64127  21.033499\n",
       "1818324927  1818324927   9225000000000.0 ... satellites 223.16623  31.567612\n",
       "1818324927  1818324927   9225000000000.0 ... satellites 223.11996   306.1218\n",
       "1816508837  1816508837   1350000000000.0 ... satellites  238.6677  385.03595\n",
       "1816478123  1816478123   1281000000000.0 ... satellites 203.26526  107.34309"
      ]
     },
     "execution_count": 17,
     "metadata": {},
     "output_type": "execute_result"
    }
   ],
   "source": [
    "galaxies['halo_id', 'halo_hostid', 'halo_mvir', 'halo_upid', 'halo_num_centrals', 'halo_num_satellites', 'halo_z', 'halo_vz', 'gal_type', 'z', 'vz']"
   ]
  },
  {
   "cell_type": "code",
   "execution_count": 18,
   "id": "e968c2b8-3a31-4d1e-b05e-d778c26930f6",
   "metadata": {},
   "outputs": [
    {
     "data": {
      "text/plain": [
       "(40411, 1064633)"
      ]
     },
     "execution_count": 18,
     "metadata": {},
     "output_type": "execute_result"
    }
   ],
   "source": [
    "len(galaxies), len(halos[halos['halo_upid']==-1]) # so not every central halo gets a galaxy"
   ]
  },
  {
   "cell_type": "code",
   "execution_count": 19,
   "id": "cf6cde5a-dca1-4f66-9209-7964cf50f72b",
   "metadata": {},
   "outputs": [
    {
     "data": {
      "text/plain": [
       "False"
      ]
     },
     "execution_count": 19,
     "metadata": {},
     "output_type": "execute_result"
    }
   ],
   "source": [
    "np.max(galaxies['gal_type'][galaxies['x']!=galaxies['halo_x']]=='centrals') # only centrals have matching halo and galaxy positions and velocities"
   ]
  },
  {
   "cell_type": "code",
   "execution_count": 20,
   "id": "c0cee265-2006-4ff3-9ea5-5560874694d2",
   "metadata": {},
   "outputs": [
    {
     "data": {
      "text/html": [
       "<div><i>Table length=0</i>\n",
       "<table id=\"table140680601021312\" class=\"table-striped table-bordered table-condensed\">\n",
       "<thead><tr><th>conc_NFWmodel</th><th>halo_vz</th><th>halo_z</th><th>halo_y</th><th>halo_x</th><th>halo_vx</th><th>halo_hostid</th><th>halo_rvir</th><th>halo_upid</th><th>halo_id</th><th>halo_mvir</th><th>halo_vy</th><th>halo_num_centrals</th><th>halo_num_satellites</th><th>gal_type</th><th>x</th><th>vz</th><th>vy</th><th>host_centric_distance</th><th>z</th><th>vx</th><th>y</th></tr></thead>\n",
       "<thead><tr><th>float32</th><th>float32</th><th>float32</th><th>float32</th><th>float32</th><th>float32</th><th>int64</th><th>float32</th><th>int64</th><th>int64</th><th>float32</th><th>float32</th><th>int32</th><th>int32</th><th>object</th><th>float32</th><th>float32</th><th>float32</th><th>float64</th><th>float32</th><th>float32</th><th>float32</th></tr></thead>\n",
       "</table></div>"
      ],
      "text/plain": [
       "<Table length=0>\n",
       "conc_NFWmodel halo_vz  halo_z  halo_y ...    z       vx      y   \n",
       "   float32    float32 float32 float32 ... float32 float32 float32\n",
       "------------- ------- ------- ------- ... ------- ------- -------"
      ]
     },
     "execution_count": 20,
     "metadata": {},
     "output_type": "execute_result"
    }
   ],
   "source": [
    "galaxies[galaxies['halo_hostid']==1818294159] # halo_num_centrals and halo_num_satellites tells you number of centrals and halos in the host"
   ]
  },
  {
   "cell_type": "markdown",
   "id": "288caaa6-f0fb-410a-83ac-6de6757b1069",
   "metadata": {},
   "source": [
    "### Sanity check by plotting HOD"
   ]
  },
  {
   "cell_type": "code",
   "execution_count": 21,
   "id": "2de02ad2-c052-4a52-a49f-4e467cdfd87e",
   "metadata": {},
   "outputs": [],
   "source": [
    "halo_mass = np.logspace(11, 15, 100)"
   ]
  },
  {
   "cell_type": "code",
   "execution_count": 22,
   "id": "fd6a0fbd-c4f8-4cfc-a12b-7d5adc8212b5",
   "metadata": {},
   "outputs": [],
   "source": [
    "mean_ncen = zheng07_model.mean_occupation_centrals(prim_haloprop = halo_mass)\n",
    "mean_nsat = zheng07_model.mean_occupation_satellites(prim_haloprop = halo_mass)"
   ]
  },
  {
   "cell_type": "code",
   "execution_count": 23,
   "id": "6b7dca99-2a2b-459e-8f3d-0167f10a90f8",
   "metadata": {},
   "outputs": [
    {
     "data": {
      "text/html": [
       "<div><i>Table length=19</i>\n",
       "<table id=\"table140680601020208\" class=\"table-striped table-bordered table-condensed\">\n",
       "<thead><tr><th>conc_NFWmodel</th><th>halo_vz</th><th>halo_z</th><th>halo_y</th><th>halo_x</th><th>halo_vx</th><th>halo_hostid</th><th>halo_rvir</th><th>halo_upid</th><th>halo_id</th><th>halo_mvir</th><th>halo_vy</th><th>halo_num_centrals</th><th>halo_num_satellites</th><th>gal_type</th><th>x</th><th>vz</th><th>vy</th><th>host_centric_distance</th><th>z</th><th>vx</th><th>y</th></tr></thead>\n",
       "<thead><tr><th>float32</th><th>float32</th><th>float32</th><th>float32</th><th>float32</th><th>float32</th><th>int64</th><th>float32</th><th>int64</th><th>int64</th><th>float32</th><th>float32</th><th>int32</th><th>int32</th><th>object</th><th>float32</th><th>float32</th><th>float32</th><th>float64</th><th>float32</th><th>float32</th><th>float32</th></tr></thead>\n",
       "<tr><td>7.580469</td><td>-119.05</td><td>18.18657</td><td>43.13491</td><td>35.73223</td><td>1.78</td><td>1805589089</td><td>1.1571131</td><td>-1</td><td>1805589089</td><td>117300000000000.0</td><td>-11.95</td><td>1</td><td>18</td><td>centrals</td><td>35.73223</td><td>-119.05</td><td>-11.95</td><td>0.0</td><td>18.18657</td><td>1.78</td><td>43.13491</td></tr>\n",
       "<tr><td>7.580469</td><td>-119.05</td><td>18.18657</td><td>43.13491</td><td>35.73223</td><td>1.78</td><td>1805589089</td><td>1.1571131</td><td>-1</td><td>1805589089</td><td>117300000000000.0</td><td>-11.95</td><td>1</td><td>18</td><td>satellites</td><td>35.95619</td><td>-628.5047</td><td>205.7931</td><td>0.42984686154358764</td><td>18.371284</td><td>-374.64008</td><td>43.451916</td></tr>\n",
       "<tr><td>7.580469</td><td>-119.05</td><td>18.18657</td><td>43.13491</td><td>35.73223</td><td>1.78</td><td>1805589089</td><td>1.1571131</td><td>-1</td><td>1805589089</td><td>117300000000000.0</td><td>-11.95</td><td>1</td><td>18</td><td>satellites</td><td>35.77886</td><td>524.16595</td><td>133.83429</td><td>0.3554940297929297</td><td>18.176807</td><td>853.8729</td><td>43.487198</td></tr>\n",
       "<tr><td>7.580469</td><td>-119.05</td><td>18.18657</td><td>43.13491</td><td>35.73223</td><td>1.78</td><td>1805589089</td><td>1.1571131</td><td>-1</td><td>1805589089</td><td>117300000000000.0</td><td>-11.95</td><td>1</td><td>18</td><td>satellites</td><td>35.369175</td><td>356.21384</td><td>-61.062973</td><td>0.5133178855162791</td><td>18.12464</td><td>-563.32306</td><td>43.492474</td></tr>\n",
       "<tr><td>7.580469</td><td>-119.05</td><td>18.18657</td><td>43.13491</td><td>35.73223</td><td>1.78</td><td>1805589089</td><td>1.1571131</td><td>-1</td><td>1805589089</td><td>117300000000000.0</td><td>-11.95</td><td>1</td><td>18</td><td>satellites</td><td>35.69884</td><td>297.34943</td><td>-583.05066</td><td>0.4603635125951345</td><td>18.027678</td><td>-103.31048</td><td>43.565693</td></tr>\n",
       "<tr><td>7.580469</td><td>-119.05</td><td>18.18657</td><td>43.13491</td><td>35.73223</td><td>1.78</td><td>1805589089</td><td>1.1571131</td><td>-1</td><td>1805589089</td><td>117300000000000.0</td><td>-11.95</td><td>1</td><td>18</td><td>satellites</td><td>34.996616</td><td>-433.0556</td><td>-274.91498</td><td>1.059401479405042</td><td>17.424828</td><td>-520.534</td><td>43.104027</td></tr>\n",
       "<tr><td>7.580469</td><td>-119.05</td><td>18.18657</td><td>43.13491</td><td>35.73223</td><td>1.78</td><td>1805589089</td><td>1.1571131</td><td>-1</td><td>1805589089</td><td>117300000000000.0</td><td>-11.95</td><td>1</td><td>18</td><td>satellites</td><td>36.015255</td><td>-290.90442</td><td>757.80096</td><td>1.0499129976053718</td><td>18.721128</td><td>0.46685013</td><td>42.276737</td></tr>\n",
       "<tr><td>7.580469</td><td>-119.05</td><td>18.18657</td><td>43.13491</td><td>35.73223</td><td>1.78</td><td>1805589089</td><td>1.1571131</td><td>-1</td><td>1805589089</td><td>117300000000000.0</td><td>-11.95</td><td>1</td><td>18</td><td>satellites</td><td>35.698948</td><td>-38.185444</td><td>840.92926</td><td>0.2657376776281045</td><td>17.937223</td><td>-183.27806</td><td>43.22056</td></tr>\n",
       "<tr><td>7.580469</td><td>-119.05</td><td>18.18657</td><td>43.13491</td><td>35.73223</td><td>1.78</td><td>1805589089</td><td>1.1571131</td><td>-1</td><td>1805589089</td><td>117300000000000.0</td><td>-11.95</td><td>1</td><td>18</td><td>satellites</td><td>35.6553</td><td>-294.406</td><td>273.85126</td><td>0.6472391401549595</td><td>18.371515</td><td>650.82886</td><td>42.519447</td></tr>\n",
       "<tr><td>7.580469</td><td>-119.05</td><td>18.18657</td><td>43.13491</td><td>35.73223</td><td>1.78</td><td>1805589089</td><td>1.1571131</td><td>-1</td><td>1805589089</td><td>117300000000000.0</td><td>-11.95</td><td>1</td><td>18</td><td>satellites</td><td>35.804466</td><td>235.3982</td><td>376.16794</td><td>0.2678018096190346</td><td>17.931116</td><td>841.2291</td><td>43.099648</td></tr>\n",
       "<tr><td>7.580469</td><td>-119.05</td><td>18.18657</td><td>43.13491</td><td>35.73223</td><td>1.78</td><td>1805589089</td><td>1.1571131</td><td>-1</td><td>1805589089</td><td>117300000000000.0</td><td>-11.95</td><td>1</td><td>18</td><td>satellites</td><td>35.218678</td><td>-226.0686</td><td>-185.02693</td><td>0.9840195340595103</td><td>18.572065</td><td>44.850964</td><td>43.88053</td></tr>\n",
       "<tr><td>7.580469</td><td>-119.05</td><td>18.18657</td><td>43.13491</td><td>35.73223</td><td>1.78</td><td>1805589089</td><td>1.1571131</td><td>-1</td><td>1805589089</td><td>117300000000000.0</td><td>-11.95</td><td>1</td><td>18</td><td>satellites</td><td>35.014828</td><td>102.06697</td><td>431.09412</td><td>0.7904919395797126</td><td>18.00982</td><td>-125.6841</td><td>42.85389</td></tr>\n",
       "<tr><td>7.580469</td><td>-119.05</td><td>18.18657</td><td>43.13491</td><td>35.73223</td><td>1.78</td><td>1805589089</td><td>1.1571131</td><td>-1</td><td>1805589089</td><td>117300000000000.0</td><td>-11.95</td><td>1</td><td>18</td><td>satellites</td><td>35.589287</td><td>-484.31598</td><td>-425.3431</td><td>0.25923409093858674</td><td>18.211197</td><td>625.8655</td><td>43.349766</td></tr>\n",
       "<tr><td>7.580469</td><td>-119.05</td><td>18.18657</td><td>43.13491</td><td>35.73223</td><td>1.78</td><td>1805589089</td><td>1.1571131</td><td>-1</td><td>1805589089</td><td>117300000000000.0</td><td>-11.95</td><td>1</td><td>18</td><td>satellites</td><td>35.74881</td><td>-63.246513</td><td>-582.1731</td><td>0.028164936714991484</td><td>18.163828</td><td>-855.3941</td><td>43.13599</td></tr>\n",
       "<tr><td>7.580469</td><td>-119.05</td><td>18.18657</td><td>43.13491</td><td>35.73223</td><td>1.78</td><td>1805589089</td><td>1.1571131</td><td>-1</td><td>1805589089</td><td>117300000000000.0</td><td>-11.95</td><td>1</td><td>18</td><td>satellites</td><td>35.090965</td><td>-579.4365</td><td>-316.26877</td><td>0.9648623562841702</td><td>17.471151</td><td>308.44482</td><td>43.04594</td></tr>\n",
       "<tr><td>7.580469</td><td>-119.05</td><td>18.18657</td><td>43.13491</td><td>35.73223</td><td>1.78</td><td>1805589089</td><td>1.1571131</td><td>-1</td><td>1805589089</td><td>117300000000000.0</td><td>-11.95</td><td>1</td><td>18</td><td>satellites</td><td>35.79735</td><td>-12.0077305</td><td>74.62339</td><td>0.46786652521027217</td><td>17.918112</td><td>178.01012</td><td>43.51252</td></tr>\n",
       "<tr><td>7.580469</td><td>-119.05</td><td>18.18657</td><td>43.13491</td><td>35.73223</td><td>1.78</td><td>1805589089</td><td>1.1571131</td><td>-1</td><td>1805589089</td><td>117300000000000.0</td><td>-11.95</td><td>1</td><td>18</td><td>satellites</td><td>35.95603</td><td>-925.9826</td><td>90.3769</td><td>1.0800982512245554</td><td>19.110933</td><td>-365.55682</td><td>42.622974</td></tr>\n",
       "<tr><td>7.580469</td><td>-119.05</td><td>18.18657</td><td>43.13491</td><td>35.73223</td><td>1.78</td><td>1805589089</td><td>1.1571131</td><td>-1</td><td>1805589089</td><td>117300000000000.0</td><td>-11.95</td><td>1</td><td>18</td><td>satellites</td><td>35.795387</td><td>-158.93149</td><td>34.1841</td><td>0.20074686577872744</td><td>18.00824</td><td>1030.9487</td><td>43.06776</td></tr>\n",
       "<tr><td>7.580469</td><td>-119.05</td><td>18.18657</td><td>43.13491</td><td>35.73223</td><td>1.78</td><td>1805589089</td><td>1.1571131</td><td>-1</td><td>1805589089</td><td>117300000000000.0</td><td>-11.95</td><td>1</td><td>18</td><td>satellites</td><td>36.234753</td><td>-506.44922</td><td>-214.1487</td><td>0.5808153510780021</td><td>18.22101</td><td>-80.90011</td><td>42.845715</td></tr>\n",
       "</table></div>"
      ],
      "text/plain": [
       "<Table length=19>\n",
       "conc_NFWmodel halo_vz  halo_z   halo_y  ...     z         vx         y    \n",
       "   float32    float32 float32  float32  ...  float32   float32    float32 \n",
       "------------- ------- -------- -------- ... --------- ---------- ---------\n",
       "     7.580469 -119.05 18.18657 43.13491 ...  18.18657       1.78  43.13491\n",
       "     7.580469 -119.05 18.18657 43.13491 ... 18.371284 -374.64008 43.451916\n",
       "     7.580469 -119.05 18.18657 43.13491 ... 18.176807   853.8729 43.487198\n",
       "     7.580469 -119.05 18.18657 43.13491 ...  18.12464 -563.32306 43.492474\n",
       "     7.580469 -119.05 18.18657 43.13491 ... 18.027678 -103.31048 43.565693\n",
       "     7.580469 -119.05 18.18657 43.13491 ... 17.424828   -520.534 43.104027\n",
       "     7.580469 -119.05 18.18657 43.13491 ... 18.721128 0.46685013 42.276737\n",
       "     7.580469 -119.05 18.18657 43.13491 ... 17.937223 -183.27806  43.22056\n",
       "     7.580469 -119.05 18.18657 43.13491 ... 18.371515  650.82886 42.519447\n",
       "     7.580469 -119.05 18.18657 43.13491 ... 17.931116   841.2291 43.099648\n",
       "     7.580469 -119.05 18.18657 43.13491 ... 18.572065  44.850964  43.88053\n",
       "     7.580469 -119.05 18.18657 43.13491 ...  18.00982  -125.6841  42.85389\n",
       "     7.580469 -119.05 18.18657 43.13491 ... 18.211197   625.8655 43.349766\n",
       "     7.580469 -119.05 18.18657 43.13491 ... 18.163828  -855.3941  43.13599\n",
       "     7.580469 -119.05 18.18657 43.13491 ... 17.471151  308.44482  43.04594\n",
       "     7.580469 -119.05 18.18657 43.13491 ... 17.918112  178.01012  43.51252\n",
       "     7.580469 -119.05 18.18657 43.13491 ... 19.110933 -365.55682 42.622974\n",
       "     7.580469 -119.05 18.18657 43.13491 ...  18.00824  1030.9487  43.06776\n",
       "     7.580469 -119.05 18.18657 43.13491 ...  18.22101  -80.90011 42.845715"
      ]
     },
     "execution_count": 23,
     "metadata": {},
     "output_type": "execute_result"
    }
   ],
   "source": [
    "galaxies[galaxies['halo_hostid']==1805589089]"
   ]
  },
  {
   "cell_type": "code",
   "execution_count": 24,
   "id": "07ea87a6-d75f-4910-9787-96941093caa6",
   "metadata": {},
   "outputs": [],
   "source": [
    "def hod(galaxies_unique, halo_mass, linestyle = '--'):\n",
    "    \n",
    "    ind = np.digitize(galaxies_unique['halo_mvir'], halo_mass) # bin the halo masses\n",
    "    mean_ncen_mock = [np.sum(galaxies_unique['halo_num_centrals'][ind == i])/len(galaxies_unique['halo_num_centrals'][ind == i]) for i in range(len(halo_mass))]\n",
    "    mean_nsat_mock = [np.sum(galaxies_unique['halo_num_satellites'][ind == i])/len(galaxies_unique['halo_num_satellites'][ind == i]) for i in range(len(halo_mass))]\n",
    "    \n",
    "    plt.plot(halo_mass, mean_ncen_mock, label = 'centrals, mock', linestyle = linestyle)\n",
    "    plt.plot(halo_mass, mean_nsat_mock, label = 'satellites, mock', linestyle = linestyle)\n",
    "    plt.plot(halo_mass, np.add(mean_ncen_mock, mean_nsat_mock), label = 'total, mock', linestyle = linestyle)\n",
    "    \n",
    "    return mean_ncen_mock, mean_nsat_mock"
   ]
  },
  {
   "cell_type": "code",
   "execution_count": 25,
   "id": "56e796f0-9753-45ca-a28f-c4fb9b1ae70e",
   "metadata": {},
   "outputs": [],
   "source": [
    "unique_hostid, hostid_ind = np.unique(galaxies['halo_hostid'], return_index = True)"
   ]
  },
  {
   "cell_type": "code",
   "execution_count": 26,
   "id": "67d028a3-f2bf-47fd-9dc2-7728d86c11d4",
   "metadata": {},
   "outputs": [],
   "source": [
    "halos_unique = zheng07_model.mock.halo_table"
   ]
  },
  {
   "cell_type": "code",
   "execution_count": 27,
   "id": "fdf2d4fc-efe3-450f-b678-ad4dcfdb0f79",
   "metadata": {},
   "outputs": [],
   "source": [
    "# follow tutorial: https://halotools.readthedocs.io/en/latest/api/halotools.mock_observables.hod_from_mock.html\n",
    "# this is more accurate than previous method because you're includig the halos that have no galaxies vs all have centrals\n",
    "cenmask = galaxies['gal_type'] == 'centrals'\n",
    "central_host_mass = galaxies['halo_mvir'][cenmask]\n",
    "halo_masses = halos_unique['halo_mvir']\n",
    "haloprop_bins = np.logspace(11, 15, 15)\n",
    "mean_ncen_hod, bin_edges = hod_from_mock(central_host_mass, halo_masses, halo_mass)"
   ]
  },
  {
   "cell_type": "code",
   "execution_count": 28,
   "id": "1c68bcfa-444f-4ffe-9861-e40cb9fd5e65",
   "metadata": {},
   "outputs": [],
   "source": [
    "satmask = galaxies['gal_type'] == 'satellites'\n",
    "satellite_host_mass = galaxies['halo_mvir'][satmask]\n",
    "mean_nsat_hod, bin_edges = hod_from_mock(satellite_host_mass, halo_masses, halo_mass)"
   ]
  },
  {
   "cell_type": "code",
   "execution_count": 29,
   "id": "b6c1333b-2721-4af7-b1c7-cb4b97f7fea5",
   "metadata": {},
   "outputs": [],
   "source": [
    "def recenter(bins):\n",
    "    return 0.5*(bins[1:]+bins[:-1])"
   ]
  },
  {
   "cell_type": "code",
   "execution_count": 30,
   "id": "2199274f-c2ed-475e-b19e-f92a8bce6aa6",
   "metadata": {},
   "outputs": [
    {
     "data": {
      "image/png": "[encoded data removed]",
      "text/plain": [
       "<Figure size 432x288 with 1 Axes>"
      ]
     },
     "metadata": {
      "needs_background": "light"
     },
     "output_type": "display_data"
    }
   ],
   "source": [
    "# plt.plot(halo_mass, mean_ncen, label = 'centrals')\n",
    "# plt.plot(halo_mass, mean_nsat, label = 'satellites')\n",
    "# plt.plot(halo_mass, mean_ncen+mean_nsat, label = 'total')\n",
    "# mean_ncen_mock, mean_nsat_mock = hod(galaxies[hostid_ind], halo_mass)\n",
    "mean_ncen_mock_unique, mean_nsat_mock_unique = hod(halos_unique, halo_mass) \n",
    "# plt.plot(halo_mass, mean_ncen_mock, label = 'centrals, mock', linestyle = '--')\n",
    "# plt.plot(halo_mass, mean_nsat_mock, label = 'satellites, mock', linestyle = '--')\n",
    "# plt.plot(halo_mass, np.add(mean_ncen_mock,mean_nsat_mock), label = 'total, mock', linestyle = '--')\n",
    "plt.plot(halo_mass[1:], mean_ncen_hod, label = 'centrals')\n",
    "plt.plot(halo_mass[1:], mean_nsat_hod, label = 'satellites')\n",
    "plt.plot(halo_mass[1:], mean_ncen_hod+mean_nsat_hod, label = 'total')\n",
    "plt.xlabel('$M_\\mathrm{vir}$')\n",
    "plt.ylabel(r'$\\langle N \\rangle$')\n",
    "plt.xscale('log')\n",
    "plt.yscale('log')\n",
    "plt.legend()\n",
    "plt.show()"
   ]
  },
  {
   "cell_type": "markdown",
   "id": "441da4c9-1923-4cbf-8372-57802008a732",
   "metadata": {},
   "source": [
    "## Measure the median clustering signal from a prebuilt mock"
   ]
  },
  {
   "cell_type": "code",
   "execution_count": 31,
   "id": "2b83334b-69d1-4ae1-a5b3-190d18b876ad",
   "metadata": {},
   "outputs": [
    {
     "name": "stderr",
     "output_type": "stream",
     "text": [
      "WARNING: AstropyDeprecationWarning: `astropy.cosmology.core.FLRW` has been moved (since v5.0) and should be imported as ``from astropy.cosmology import FLRW``. In future this will raise an exception. [astropy.cosmology.core]\n",
      "WARNING: AstropyDeprecationWarning: `astropy.cosmology.core.FLRW` has been moved (since v5.0) and should be imported as ``from astropy.cosmology import FLRW``. In future this will raise an exception. [astropy.cosmology.core]\n",
      "WARNING: AstropyDeprecationWarning: `astropy.cosmology.core.FLRW` has been moved (since v5.0) and should be imported as ``from astropy.cosmology import FLRW``. In future this will raise an exception. [astropy.cosmology.core]\n"
     ]
    }
   ],
   "source": [
    "r, xi_cc, xi_cs, xi_ss = zheng07_model.compute_average_galaxy_clustering(gal_type = 'centrals', include_crosscorr = True, num_iterations = 3, num_threads = 'max')"
   ]
  },
  {
   "cell_type": "code",
   "execution_count": 32,
   "id": "301c4531-505c-446e-b37d-5271da21780a",
   "metadata": {},
   "outputs": [
    {
     "name": "stderr",
     "output_type": "stream",
     "text": [
      "WARNING: AstropyDeprecationWarning: `astropy.cosmology.core.FLRW` has been moved (since v5.0) and should be imported as ``from astropy.cosmology import FLRW``. In future this will raise an exception. [astropy.cosmology.core]\n",
      "WARNING: AstropyDeprecationWarning: `astropy.cosmology.core.FLRW` has been moved (since v5.0) and should be imported as ``from astropy.cosmology import FLRW``. In future this will raise an exception. [astropy.cosmology.core]\n",
      "WARNING: AstropyDeprecationWarning: `astropy.cosmology.core.FLRW` has been moved (since v5.0) and should be imported as ``from astropy.cosmology import FLRW``. In future this will raise an exception. [astropy.cosmology.core]\n"
     ]
    }
   ],
   "source": [
    "r, xi_cc_auto = zheng07_model.compute_average_galaxy_clustering(gal_type = 'centrals', include_crosscorr = False, num_iterations = 3, num_threads = 'max')"
   ]
  },
  {
   "cell_type": "code",
   "execution_count": 33,
   "id": "c381db87-e3a0-4b10-b0e6-c4f73412ce6c",
   "metadata": {},
   "outputs": [
    {
     "name": "stderr",
     "output_type": "stream",
     "text": [
      "WARNING: AstropyDeprecationWarning: `astropy.cosmology.core.FLRW` has been moved (since v5.0) and should be imported as ``from astropy.cosmology import FLRW``. In future this will raise an exception. [astropy.cosmology.core]\n",
      "WARNING: AstropyDeprecationWarning: `astropy.cosmology.core.FLRW` has been moved (since v5.0) and should be imported as ``from astropy.cosmology import FLRW``. In future this will raise an exception. [astropy.cosmology.core]\n",
      "WARNING: AstropyDeprecationWarning: `astropy.cosmology.core.FLRW` has been moved (since v5.0) and should be imported as ``from astropy.cosmology import FLRW``. In future this will raise an exception. [astropy.cosmology.core]\n"
     ]
    }
   ],
   "source": [
    "r, xi_ss_auto = zheng07_model.compute_average_galaxy_clustering(gal_type = 'satellites', include_crosscorr = False, num_iterations = 3, num_threads = 'max')"
   ]
  },
  {
   "cell_type": "code",
   "execution_count": 34,
   "id": "8c37022d-a6e3-4945-a67a-2475af21bf02",
   "metadata": {},
   "outputs": [
    {
     "name": "stderr",
     "output_type": "stream",
     "text": [
      "WARNING: AstropyDeprecationWarning: `astropy.cosmology.core.FLRW` has been moved (since v5.0) and should be imported as ``from astropy.cosmology import FLRW``. In future this will raise an exception. [astropy.cosmology.core]\n",
      "WARNING: AstropyDeprecationWarning: `astropy.cosmology.core.FLRW` has been moved (since v5.0) and should be imported as ``from astropy.cosmology import FLRW``. In future this will raise an exception. [astropy.cosmology.core]\n",
      "WARNING: AstropyDeprecationWarning: `astropy.cosmology.core.FLRW` has been moved (since v5.0) and should be imported as ``from astropy.cosmology import FLRW``. In future this will raise an exception. [astropy.cosmology.core]\n"
     ]
    }
   ],
   "source": [
    "r, xi = zheng07_model.compute_average_galaxy_clustering(include_crosscorr = False, num_iterations = 3, num_threads = 'max')"
   ]
  },
  {
   "cell_type": "code",
   "execution_count": 35,
   "id": "e26ca06a-6e0f-4e5e-a462-3ffd814d9acb",
   "metadata": {},
   "outputs": [
    {
     "data": {
      "image/png": "[encoded data removed]",
      "text/plain": [
       "<Figure size 432x288 with 1 Axes>"
      ]
     },
     "metadata": {
      "needs_background": "light"
     },
     "output_type": "display_data"
    },
    {
     "data": {
      "image/png": "[encoded data removed]",
      "text/plain": [
       "<Figure size 432x288 with 1 Axes>"
      ]
     },
     "metadata": {
      "needs_background": "light"
     },
     "output_type": "display_data"
    },
    {
     "data": {
      "image/png": "[encoded data removed]",
      "text/plain": [
       "<Figure size 432x288 with 1 Axes>"
      ]
     },
     "metadata": {
      "needs_background": "light"
     },
     "output_type": "display_data"
    },
    {
     "data": {
      "image/png": "[encoded data removed]",
      "text/plain": [
       "<Figure size 432x288 with 1 Axes>"
      ]
     },
     "metadata": {
      "needs_background": "light"
     },
     "output_type": "display_data"
    }
   ],
   "source": [
    "plt.plot(r, xi, label = 'all galaxies')\n",
    "plt.plot(r, xi_cc_auto, label = 'CC, cross correlation')\n",
    "plt.plot(r, xi_cc, label = 'CC, no cross correlation', linestyle = '--')\n",
    "plt.xlabel('r')\n",
    "plt.ylabel(r'$\\xi(r)$')\n",
    "plt.xscale('log')\n",
    "plt.yscale('log')\n",
    "plt.legend()\n",
    "plt.show()\n",
    "\n",
    "plt.plot(r, xi, label = 'all galaxies')\n",
    "plt.plot(r, xi_cs, label = 'CS, cross correlation')\n",
    "plt.legend()\n",
    "plt.xlabel('r')\n",
    "plt.ylabel(r'$\\xi(r)$')\n",
    "plt.xscale('log')\n",
    "plt.yscale('log')\n",
    "plt.show()\n",
    "\n",
    "plt.plot(r, xi, label = 'all galaxies')\n",
    "plt.plot(r, xi_ss_auto, label = 'SS, cross correlation')\n",
    "plt.plot(r, xi_ss, label = 'SS, no cross correlation', linestyle = '--')\n",
    "plt.xlabel('r')\n",
    "plt.ylabel(r'$\\xi(r)$')\n",
    "plt.xscale('log')\n",
    "plt.yscale('log')\n",
    "plt.legend()\n",
    "plt.show()\n",
    "\n",
    "plt.plot(r, xi)\n",
    "plt.title('all galaxies')\n",
    "plt.xlabel('r')\n",
    "plt.ylabel(r'$\\xi(r)$')\n",
    "plt.xscale('log')\n",
    "plt.yscale('log')\n",
    "plt.show()"
   ]
  },
  {
   "cell_type": "markdown",
   "id": "d5e3773f-fd86-47e9-877a-aa849fb51c83",
   "metadata": {},
   "source": [
    "# Calculate wp of halotools mock using Corrfunc"
   ]
  },
  {
   "cell_type": "code",
   "execution_count": 37,
   "id": "e2d954f7-6dd0-49b9-8e26-d17d76f41282",
   "metadata": {},
   "outputs": [],
   "source": [
    "# Create the bins array\n",
    "rmin = 0.5 # 0.1 # start higher\n",
    "rmax = 60.0 # 20.0 \n",
    "nbins = 20 \n",
    "rbins = np.logspace(np.log10(rmin), np.log10(rmax), nbins + 1) # Mpc/h https://github.com/manodeep/Corrfunc/issues/202"
   ]
  },
  {
   "cell_type": "code",
   "execution_count": 38,
   "id": "d3e64d85-1047-4de8-955a-73d0432c799d",
   "metadata": {},
   "outputs": [],
   "source": [
    "pimax = 40.0"
   ]
  },
  {
   "cell_type": "code",
   "execution_count": 42,
   "id": "ed84e211-6093-47d1-a14c-dc177cd116e6",
   "metadata": {},
   "outputs": [],
   "source": [
    "results = theory.wp(boxsize = 250, nthreads = 8, pimax = pimax, binfile = rbins, X = galaxies['x'], Y = galaxies['y'], \n",
    "                      Z = galaxies['z'], output_rpavg = True) "
   ]
  },
  {
   "cell_type": "code",
   "execution_count": 43,
   "id": "4dec630c-29e0-40d4-843b-f4f8f1b80d40",
   "metadata": {},
   "outputs": [
    {
     "data": {
      "image/png": "[encoded data removed]",
      "text/plain": [
       "<Figure size 432x288 with 1 Axes>"
      ]
     },
     "metadata": {
      "needs_background": "light"
     },
     "output_type": "display_data"
    }
   ],
   "source": [
    "plt.scatter(results['rpavg'], results['wp'], label = 'new mocks')\n",
    "plt.xlabel(r'$r_{p}$ $[h^{-1}$ Mpc]') # projected\n",
    "plt.ylabel(\"$w_p$ $[h^{-1}$ Mpc]\")\n",
    "plt.xscale('log')\n",
    "plt.yscale('log')\n",
    "plt.xlim(1e-2,1e2)\n",
    "plt.ylim(1e-1,1e4)\n",
    "plt.show()"
   ]
  },
  {
   "cell_type": "markdown",
   "id": "ae917c4a-ed3e-4550-8718-f9e2e96ed6bc",
   "metadata": {},
   "source": [
    "# Questions\n",
    "- halo_pid points to any specific subhalo? or it just tells you it's a sub-subhalo?\n",
    "- halo_id vs halo_hostid for galaxies?\n",
    "- halo_x vs x for galaxies? halo_vx vs vx? just host halo vs central galaxy?\n",
    "- do i need to design my own galaxy-halo model?\n",
    "- will I use halo_tools clustering or corrfunc clustering? \n",
    "    - compute_average_galaxy_clustering shouldn't be used in MCMC, and wp function doesn't work on observable data... how do you use halotools with corrfunc?\n",
    "- confused about bin edges?\n",
    "- survey realism? lightcone, ra + dec instead of cartesian, selfunc, rsds?"
   ]
  },
  {
   "cell_type": "code",
   "execution_count": null,
   "id": "14392310-0a28-47a1-a2ce-af9ba417d8ac",
   "metadata": {},
   "outputs": [],
   "source": []
  }
 ],
 "metadata": {
  "kernelspec": {
   "display_name": "Python (jupyter-env)",
   "language": "python",
   "name": "jupyter-env"
  },
  "language_info": {
   "codemirror_mode": {
    "name": "ipython",
    "version": 3
   },
   "file_extension": ".py",
   "mimetype": "text/x-python",
   "name": "python",
   "nbconvert_exporter": "python",
   "pygments_lexer": "ipython3",
   "version": "3.8.16"
  }
 },
 "nbformat": 4,
 "nbformat_minor": 5
}
